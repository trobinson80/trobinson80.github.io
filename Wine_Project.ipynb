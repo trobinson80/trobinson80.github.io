{
  "nbformat": 4,
  "nbformat_minor": 0,
  "metadata": {
    "colab": {
      "name": "Wine_Project.ipynb",
      "provenance": [],
      "collapsed_sections": [],
      "toc_visible": true
    },
    "kernelspec": {
      "name": "python3",
      "display_name": "Python 3"
    }
  },
  "cells": [
    {
      "cell_type": "markdown",
      "metadata": {
        "id": "2URBH34Tx5W6",
        "colab_type": "text"
      },
      "source": [
        "#No Wine Left Behind\n",
        "\n",
        "### By Alex Karwoski, August Stapf, Thomas Robinson, and Michael Bick"
      ]
    },
    {
      "cell_type": "markdown",
      "metadata": {
        "id": "5ymPopEJ6idC",
        "colab_type": "text"
      },
      "source": [
        "**Introduction**\n",
        "\n",
        "While seeing relatives out in Oregon, one of our initial group members, Michael Leon, went around visiting vineyards and wineries on the Oregon countryside with his uncle. His uncle taught him the ins and outs of wine tasting, and what makes certain wines different from others in taste, quality, and other aspects. As we were looking around at public datasets to do our project, we came across the wine dataset, and after we heard his story, we were curious if wine quality could be determined based on the chemical components of the wine, as opposed to just a connoisseur's taste. All of our group members showed an interest in the topic, and we were all in to do our project on wine. \n",
        "\n",
        "Previous work using machine learning on the wine dataset is extensive in the literature [1-3]. Varied techniques have been used: from common classification techniques like k-nearest neighbors, random forests, and SVMs [2], to uncommon techniques like fuzzy ones [1-3]. In our project, we compare benchmark these techniques against more modern ones.\n",
        "\n",
        "First, the team uses statistical methods to analyze the data and perform principal component analysis (PCA). Then, the team uses the best features from PCA in various classification and regression algorithms. Method one implements the k-means algorithm, where the assigned cluster mean wine quality is a predictor. \n",
        "\n",
        "[1] Escobet, Antoni, et al. “Modeling Wine Preferences from Physicochemical Properties Using Fuzzy \n",
        "Techniques .” Scitepress, pp. 1–7.\n",
        "\n",
        "[2] Er, Yeşim & Atasoy, Ayten. (2016). The Classification of White Wine and Red Wine According to \n",
        "Their Physicochemical Qualities. International Journal of Intelligent Systems and Applications in Engineering. 23-23. 10.18201/ijisae.265954.\n",
        "\n",
        "[3] P. Cortez, A. Cerdeira, F. Almeida, T. Matos and J. Reis. Modeling wine preferences by data mining \n",
        "from physicochemical properties. In Decision Support Systems, Elsevier, 47(4):547-553. ISSN: 0167-9236.\n",
        "\n",
        "  \n",
        "\n",
        "\n",
        "\n",
        "\n"
      ]
    },
    {
      "cell_type": "code",
      "metadata": {
        "id": "3J3iHWWkm6t9",
        "colab_type": "code",
        "outputId": "f1e157d2-7ab0-4e4a-b8e0-1c84f04f12da",
        "colab": {
          "base_uri": "https://localhost:8080/",
          "height": 71
        }
      },
      "source": [
        "import numpy as np\n",
        "import pandas as pd\n",
        "import matplotlib.pyplot as plt\n",
        "import seaborn as sns\n",
        "\n",
        "%matplotlib inline"
      ],
      "execution_count": 1,
      "outputs": [
        {
          "output_type": "stream",
          "text": [
            "/usr/local/lib/python3.6/dist-packages/statsmodels/tools/_testing.py:19: FutureWarning: pandas.util.testing is deprecated. Use the functions in the public API at pandas.testing instead.\n",
            "  import pandas.util.testing as tm\n"
          ],
          "name": "stderr"
        }
      ]
    },
    {
      "cell_type": "markdown",
      "metadata": {
        "id": "KmlOTtfosGHa",
        "colab_type": "text"
      },
      "source": [
        "**Dataset**\n",
        "\n",
        "The dataset contains the wine attributes: Fixed Acidity, Volatile Acidity, Citric Acid, Residual Sugar, Chlorides, Free Sulfur Dioxide, Total Sulfur Dioxide, Density, pH, Sulphates, Alcohol(% ABV), and the Quality. In conductiing our tests, we want to determine which of the attributes are more important in determining the quality of wine than others.\n",
        "\n",
        "**Sample Data**\n",
        "\n",
        "Below is an example of what the data for the physiochemical properties of the wine looks like. The first 11 columns are the separate chemical properties that we will be analyzing to see how they relate to the overall wine which is in the last column."
      ]
    },
    {
      "cell_type": "code",
      "metadata": {
        "id": "VVvpWMAzsIa9",
        "colab_type": "code",
        "outputId": "d16b1933-2ae7-4902-9d37-adc4e69b288b",
        "colab": {
          "base_uri": "https://localhost:8080/",
          "height": 221
        }
      },
      "source": [
        "red_dataframe = pd.read_csv('winequality-red.csv', sep=';')\n",
        "red_dataframe.head()"
      ],
      "execution_count": 2,
      "outputs": [
        {
          "output_type": "execute_result",
          "data": {
            "text/html": [
              "<div>\n",
              "<style scoped>\n",
              "    .dataframe tbody tr th:only-of-type {\n",
              "        vertical-align: middle;\n",
              "    }\n",
              "\n",
              "    .dataframe tbody tr th {\n",
              "        vertical-align: top;\n",
              "    }\n",
              "\n",
              "    .dataframe thead th {\n",
              "        text-align: right;\n",
              "    }\n",
              "</style>\n",
              "<table border=\"1\" class=\"dataframe\">\n",
              "  <thead>\n",
              "    <tr style=\"text-align: right;\">\n",
              "      <th></th>\n",
              "      <th>fixed acidity</th>\n",
              "      <th>volatile acidity</th>\n",
              "      <th>citric acid</th>\n",
              "      <th>residual sugar</th>\n",
              "      <th>chlorides</th>\n",
              "      <th>free sulfur dioxide</th>\n",
              "      <th>total sulfur dioxide</th>\n",
              "      <th>density</th>\n",
              "      <th>pH</th>\n",
              "      <th>sulphates</th>\n",
              "      <th>alcohol</th>\n",
              "      <th>quality</th>\n",
              "    </tr>\n",
              "  </thead>\n",
              "  <tbody>\n",
              "    <tr>\n",
              "      <th>0</th>\n",
              "      <td>7.4</td>\n",
              "      <td>0.70</td>\n",
              "      <td>0.00</td>\n",
              "      <td>1.9</td>\n",
              "      <td>0.076</td>\n",
              "      <td>11.0</td>\n",
              "      <td>34.0</td>\n",
              "      <td>0.9978</td>\n",
              "      <td>3.51</td>\n",
              "      <td>0.56</td>\n",
              "      <td>9.4</td>\n",
              "      <td>5</td>\n",
              "    </tr>\n",
              "    <tr>\n",
              "      <th>1</th>\n",
              "      <td>7.8</td>\n",
              "      <td>0.88</td>\n",
              "      <td>0.00</td>\n",
              "      <td>2.6</td>\n",
              "      <td>0.098</td>\n",
              "      <td>25.0</td>\n",
              "      <td>67.0</td>\n",
              "      <td>0.9968</td>\n",
              "      <td>3.20</td>\n",
              "      <td>0.68</td>\n",
              "      <td>9.8</td>\n",
              "      <td>5</td>\n",
              "    </tr>\n",
              "    <tr>\n",
              "      <th>2</th>\n",
              "      <td>7.8</td>\n",
              "      <td>0.76</td>\n",
              "      <td>0.04</td>\n",
              "      <td>2.3</td>\n",
              "      <td>0.092</td>\n",
              "      <td>15.0</td>\n",
              "      <td>54.0</td>\n",
              "      <td>0.9970</td>\n",
              "      <td>3.26</td>\n",
              "      <td>0.65</td>\n",
              "      <td>9.8</td>\n",
              "      <td>5</td>\n",
              "    </tr>\n",
              "    <tr>\n",
              "      <th>3</th>\n",
              "      <td>11.2</td>\n",
              "      <td>0.28</td>\n",
              "      <td>0.56</td>\n",
              "      <td>1.9</td>\n",
              "      <td>0.075</td>\n",
              "      <td>17.0</td>\n",
              "      <td>60.0</td>\n",
              "      <td>0.9980</td>\n",
              "      <td>3.16</td>\n",
              "      <td>0.58</td>\n",
              "      <td>9.8</td>\n",
              "      <td>6</td>\n",
              "    </tr>\n",
              "    <tr>\n",
              "      <th>4</th>\n",
              "      <td>7.4</td>\n",
              "      <td>0.70</td>\n",
              "      <td>0.00</td>\n",
              "      <td>1.9</td>\n",
              "      <td>0.076</td>\n",
              "      <td>11.0</td>\n",
              "      <td>34.0</td>\n",
              "      <td>0.9978</td>\n",
              "      <td>3.51</td>\n",
              "      <td>0.56</td>\n",
              "      <td>9.4</td>\n",
              "      <td>5</td>\n",
              "    </tr>\n",
              "  </tbody>\n",
              "</table>\n",
              "</div>"
            ],
            "text/plain": [
              "   fixed acidity  volatile acidity  citric acid  ...  sulphates  alcohol  quality\n",
              "0            7.4              0.70         0.00  ...       0.56      9.4        5\n",
              "1            7.8              0.88         0.00  ...       0.68      9.8        5\n",
              "2            7.8              0.76         0.04  ...       0.65      9.8        5\n",
              "3           11.2              0.28         0.56  ...       0.58      9.8        6\n",
              "4            7.4              0.70         0.00  ...       0.56      9.4        5\n",
              "\n",
              "[5 rows x 12 columns]"
            ]
          },
          "metadata": {
            "tags": []
          },
          "execution_count": 2
        }
      ]
    },
    {
      "cell_type": "markdown",
      "metadata": {
        "id": "_pfeGe5QnmqO",
        "colab_type": "text"
      },
      "source": [
        "**Red Wine Information and Correlation Matrix**\n",
        "\n",
        "Here we have information on each of the individual attributes of the red wines. The following information shows us the Averge, Standard Deviation, Min, Max, etc. Below that is the Correlation of each attribute to each other attribute"
      ]
    },
    {
      "cell_type": "code",
      "metadata": {
        "id": "6NK7UsnynFhX",
        "colab_type": "code",
        "outputId": "1eb2839d-5815-4f18-b21e-884c62dd9d64",
        "colab": {
          "base_uri": "https://localhost:8080/",
          "height": 314
        }
      },
      "source": [
        "red_dataframe = pd.read_csv('winequality-red.csv', sep=';')\n",
        "red_dataframe.drop('quality', axis=1).describe()"
      ],
      "execution_count": 3,
      "outputs": [
        {
          "output_type": "execute_result",
          "data": {
            "text/html": [
              "<div>\n",
              "<style scoped>\n",
              "    .dataframe tbody tr th:only-of-type {\n",
              "        vertical-align: middle;\n",
              "    }\n",
              "\n",
              "    .dataframe tbody tr th {\n",
              "        vertical-align: top;\n",
              "    }\n",
              "\n",
              "    .dataframe thead th {\n",
              "        text-align: right;\n",
              "    }\n",
              "</style>\n",
              "<table border=\"1\" class=\"dataframe\">\n",
              "  <thead>\n",
              "    <tr style=\"text-align: right;\">\n",
              "      <th></th>\n",
              "      <th>fixed acidity</th>\n",
              "      <th>volatile acidity</th>\n",
              "      <th>citric acid</th>\n",
              "      <th>residual sugar</th>\n",
              "      <th>chlorides</th>\n",
              "      <th>free sulfur dioxide</th>\n",
              "      <th>total sulfur dioxide</th>\n",
              "      <th>density</th>\n",
              "      <th>pH</th>\n",
              "      <th>sulphates</th>\n",
              "      <th>alcohol</th>\n",
              "    </tr>\n",
              "  </thead>\n",
              "  <tbody>\n",
              "    <tr>\n",
              "      <th>count</th>\n",
              "      <td>1599.000000</td>\n",
              "      <td>1599.000000</td>\n",
              "      <td>1599.000000</td>\n",
              "      <td>1599.000000</td>\n",
              "      <td>1599.000000</td>\n",
              "      <td>1599.000000</td>\n",
              "      <td>1599.000000</td>\n",
              "      <td>1599.000000</td>\n",
              "      <td>1599.000000</td>\n",
              "      <td>1599.000000</td>\n",
              "      <td>1599.000000</td>\n",
              "    </tr>\n",
              "    <tr>\n",
              "      <th>mean</th>\n",
              "      <td>8.319637</td>\n",
              "      <td>0.527821</td>\n",
              "      <td>0.270976</td>\n",
              "      <td>2.538806</td>\n",
              "      <td>0.087467</td>\n",
              "      <td>15.874922</td>\n",
              "      <td>46.467792</td>\n",
              "      <td>0.996747</td>\n",
              "      <td>3.311113</td>\n",
              "      <td>0.658149</td>\n",
              "      <td>10.422983</td>\n",
              "    </tr>\n",
              "    <tr>\n",
              "      <th>std</th>\n",
              "      <td>1.741096</td>\n",
              "      <td>0.179060</td>\n",
              "      <td>0.194801</td>\n",
              "      <td>1.409928</td>\n",
              "      <td>0.047065</td>\n",
              "      <td>10.460157</td>\n",
              "      <td>32.895324</td>\n",
              "      <td>0.001887</td>\n",
              "      <td>0.154386</td>\n",
              "      <td>0.169507</td>\n",
              "      <td>1.065668</td>\n",
              "    </tr>\n",
              "    <tr>\n",
              "      <th>min</th>\n",
              "      <td>4.600000</td>\n",
              "      <td>0.120000</td>\n",
              "      <td>0.000000</td>\n",
              "      <td>0.900000</td>\n",
              "      <td>0.012000</td>\n",
              "      <td>1.000000</td>\n",
              "      <td>6.000000</td>\n",
              "      <td>0.990070</td>\n",
              "      <td>2.740000</td>\n",
              "      <td>0.330000</td>\n",
              "      <td>8.400000</td>\n",
              "    </tr>\n",
              "    <tr>\n",
              "      <th>25%</th>\n",
              "      <td>7.100000</td>\n",
              "      <td>0.390000</td>\n",
              "      <td>0.090000</td>\n",
              "      <td>1.900000</td>\n",
              "      <td>0.070000</td>\n",
              "      <td>7.000000</td>\n",
              "      <td>22.000000</td>\n",
              "      <td>0.995600</td>\n",
              "      <td>3.210000</td>\n",
              "      <td>0.550000</td>\n",
              "      <td>9.500000</td>\n",
              "    </tr>\n",
              "    <tr>\n",
              "      <th>50%</th>\n",
              "      <td>7.900000</td>\n",
              "      <td>0.520000</td>\n",
              "      <td>0.260000</td>\n",
              "      <td>2.200000</td>\n",
              "      <td>0.079000</td>\n",
              "      <td>14.000000</td>\n",
              "      <td>38.000000</td>\n",
              "      <td>0.996750</td>\n",
              "      <td>3.310000</td>\n",
              "      <td>0.620000</td>\n",
              "      <td>10.200000</td>\n",
              "    </tr>\n",
              "    <tr>\n",
              "      <th>75%</th>\n",
              "      <td>9.200000</td>\n",
              "      <td>0.640000</td>\n",
              "      <td>0.420000</td>\n",
              "      <td>2.600000</td>\n",
              "      <td>0.090000</td>\n",
              "      <td>21.000000</td>\n",
              "      <td>62.000000</td>\n",
              "      <td>0.997835</td>\n",
              "      <td>3.400000</td>\n",
              "      <td>0.730000</td>\n",
              "      <td>11.100000</td>\n",
              "    </tr>\n",
              "    <tr>\n",
              "      <th>max</th>\n",
              "      <td>15.900000</td>\n",
              "      <td>1.580000</td>\n",
              "      <td>1.000000</td>\n",
              "      <td>15.500000</td>\n",
              "      <td>0.611000</td>\n",
              "      <td>72.000000</td>\n",
              "      <td>289.000000</td>\n",
              "      <td>1.003690</td>\n",
              "      <td>4.010000</td>\n",
              "      <td>2.000000</td>\n",
              "      <td>14.900000</td>\n",
              "    </tr>\n",
              "  </tbody>\n",
              "</table>\n",
              "</div>"
            ],
            "text/plain": [
              "       fixed acidity  volatile acidity  ...    sulphates      alcohol\n",
              "count    1599.000000       1599.000000  ...  1599.000000  1599.000000\n",
              "mean        8.319637          0.527821  ...     0.658149    10.422983\n",
              "std         1.741096          0.179060  ...     0.169507     1.065668\n",
              "min         4.600000          0.120000  ...     0.330000     8.400000\n",
              "25%         7.100000          0.390000  ...     0.550000     9.500000\n",
              "50%         7.900000          0.520000  ...     0.620000    10.200000\n",
              "75%         9.200000          0.640000  ...     0.730000    11.100000\n",
              "max        15.900000          1.580000  ...     2.000000    14.900000\n",
              "\n",
              "[8 rows x 11 columns]"
            ]
          },
          "metadata": {
            "tags": []
          },
          "execution_count": 3
        }
      ]
    },
    {
      "cell_type": "code",
      "metadata": {
        "id": "Iu16AE7_8QMy",
        "colab_type": "code",
        "outputId": "5c683f27-7dcc-487d-de79-88040f51e343",
        "colab": {
          "base_uri": "https://localhost:8080/",
          "height": 968
        }
      },
      "source": [
        "correlation = red_dataframe.corr()\n",
        "fig, ax = plt.subplots(figsize=(15,15))\n",
        "sns.heatmap(correlation, xticklabels=correlation.columns, yticklabels=correlation.columns, cmap='coolwarm_r', vmin=-1, vmax=1, annot=True, ax=ax)"
      ],
      "execution_count": 4,
      "outputs": [
        {
          "output_type": "execute_result",
          "data": {
            "text/plain": [
              "<matplotlib.axes._subplots.AxesSubplot at 0x7fd25191d518>"
            ]
          },
          "metadata": {
            "tags": []
          },
          "execution_count": 4
        },
        {
          "output_type": "display_data",
          "data": {
            "image/png": "[encoded data removed]",
            "text/plain": [
              "<Figure size 1080x1080 with 2 Axes>"
            ]
          },
          "metadata": {
            "tags": [],
            "needs_background": "light"
          }
        }
      ]
    },
    {
      "cell_type": "markdown",
      "metadata": {
        "id": "6XNFf_uNnlNY",
        "colab_type": "text"
      },
      "source": [
        "**White Wine Information and Correlation Matrix**\n",
        "\n",
        "Here we have information on each of the individual attributes of the white wines. The following information shows us the Averge, Standard Deviation, Min, Max, etc. Below that is the Correlation of each attribute to each other attribute"
      ]
    },
    {
      "cell_type": "code",
      "metadata": {
        "id": "6U2LvoUFnfyM",
        "colab_type": "code",
        "outputId": "215fd763-8aa3-4479-f534-3d6042f68931",
        "colab": {
          "base_uri": "https://localhost:8080/",
          "height": 314
        }
      },
      "source": [
        "white_dataframe = pd.read_csv('winequality-white.csv', sep=';')\n",
        "white_dataframe.drop('quality', axis=1).describe()\n"
      ],
      "execution_count": 5,
      "outputs": [
        {
          "output_type": "execute_result",
          "data": {
            "text/html": [
              "<div>\n",
              "<style scoped>\n",
              "    .dataframe tbody tr th:only-of-type {\n",
              "        vertical-align: middle;\n",
              "    }\n",
              "\n",
              "    .dataframe tbody tr th {\n",
              "        vertical-align: top;\n",
              "    }\n",
              "\n",
              "    .dataframe thead th {\n",
              "        text-align: right;\n",
              "    }\n",
              "</style>\n",
              "<table border=\"1\" class=\"dataframe\">\n",
              "  <thead>\n",
              "    <tr style=\"text-align: right;\">\n",
              "      <th></th>\n",
              "      <th>fixed acidity</th>\n",
              "      <th>volatile acidity</th>\n",
              "      <th>citric acid</th>\n",
              "      <th>residual sugar</th>\n",
              "      <th>chlorides</th>\n",
              "      <th>free sulfur dioxide</th>\n",
              "      <th>total sulfur dioxide</th>\n",
              "      <th>density</th>\n",
              "      <th>pH</th>\n",
              "      <th>sulphates</th>\n",
              "      <th>alcohol</th>\n",
              "    </tr>\n",
              "  </thead>\n",
              "  <tbody>\n",
              "    <tr>\n",
              "      <th>count</th>\n",
              "      <td>4898.000000</td>\n",
              "      <td>4898.000000</td>\n",
              "      <td>4898.000000</td>\n",
              "      <td>4898.000000</td>\n",
              "      <td>4898.000000</td>\n",
              "      <td>4898.000000</td>\n",
              "      <td>4898.000000</td>\n",
              "      <td>4898.000000</td>\n",
              "      <td>4898.000000</td>\n",
              "      <td>4898.000000</td>\n",
              "      <td>4898.000000</td>\n",
              "    </tr>\n",
              "    <tr>\n",
              "      <th>mean</th>\n",
              "      <td>6.854788</td>\n",
              "      <td>0.278241</td>\n",
              "      <td>0.334192</td>\n",
              "      <td>6.391415</td>\n",
              "      <td>0.045772</td>\n",
              "      <td>35.308085</td>\n",
              "      <td>138.360657</td>\n",
              "      <td>0.994027</td>\n",
              "      <td>3.188267</td>\n",
              "      <td>0.489847</td>\n",
              "      <td>10.514267</td>\n",
              "    </tr>\n",
              "    <tr>\n",
              "      <th>std</th>\n",
              "      <td>0.843868</td>\n",
              "      <td>0.100795</td>\n",
              "      <td>0.121020</td>\n",
              "      <td>5.072058</td>\n",
              "      <td>0.021848</td>\n",
              "      <td>17.007137</td>\n",
              "      <td>42.498065</td>\n",
              "      <td>0.002991</td>\n",
              "      <td>0.151001</td>\n",
              "      <td>0.114126</td>\n",
              "      <td>1.230621</td>\n",
              "    </tr>\n",
              "    <tr>\n",
              "      <th>min</th>\n",
              "      <td>3.800000</td>\n",
              "      <td>0.080000</td>\n",
              "      <td>0.000000</td>\n",
              "      <td>0.600000</td>\n",
              "      <td>0.009000</td>\n",
              "      <td>2.000000</td>\n",
              "      <td>9.000000</td>\n",
              "      <td>0.987110</td>\n",
              "      <td>2.720000</td>\n",
              "      <td>0.220000</td>\n",
              "      <td>8.000000</td>\n",
              "    </tr>\n",
              "    <tr>\n",
              "      <th>25%</th>\n",
              "      <td>6.300000</td>\n",
              "      <td>0.210000</td>\n",
              "      <td>0.270000</td>\n",
              "      <td>1.700000</td>\n",
              "      <td>0.036000</td>\n",
              "      <td>23.000000</td>\n",
              "      <td>108.000000</td>\n",
              "      <td>0.991723</td>\n",
              "      <td>3.090000</td>\n",
              "      <td>0.410000</td>\n",
              "      <td>9.500000</td>\n",
              "    </tr>\n",
              "    <tr>\n",
              "      <th>50%</th>\n",
              "      <td>6.800000</td>\n",
              "      <td>0.260000</td>\n",
              "      <td>0.320000</td>\n",
              "      <td>5.200000</td>\n",
              "      <td>0.043000</td>\n",
              "      <td>34.000000</td>\n",
              "      <td>134.000000</td>\n",
              "      <td>0.993740</td>\n",
              "      <td>3.180000</td>\n",
              "      <td>0.470000</td>\n",
              "      <td>10.400000</td>\n",
              "    </tr>\n",
              "    <tr>\n",
              "      <th>75%</th>\n",
              "      <td>7.300000</td>\n",
              "      <td>0.320000</td>\n",
              "      <td>0.390000</td>\n",
              "      <td>9.900000</td>\n",
              "      <td>0.050000</td>\n",
              "      <td>46.000000</td>\n",
              "      <td>167.000000</td>\n",
              "      <td>0.996100</td>\n",
              "      <td>3.280000</td>\n",
              "      <td>0.550000</td>\n",
              "      <td>11.400000</td>\n",
              "    </tr>\n",
              "    <tr>\n",
              "      <th>max</th>\n",
              "      <td>14.200000</td>\n",
              "      <td>1.100000</td>\n",
              "      <td>1.660000</td>\n",
              "      <td>65.800000</td>\n",
              "      <td>0.346000</td>\n",
              "      <td>289.000000</td>\n",
              "      <td>440.000000</td>\n",
              "      <td>1.038980</td>\n",
              "      <td>3.820000</td>\n",
              "      <td>1.080000</td>\n",
              "      <td>14.200000</td>\n",
              "    </tr>\n",
              "  </tbody>\n",
              "</table>\n",
              "</div>"
            ],
            "text/plain": [
              "       fixed acidity  volatile acidity  ...    sulphates      alcohol\n",
              "count    4898.000000       4898.000000  ...  4898.000000  4898.000000\n",
              "mean        6.854788          0.278241  ...     0.489847    10.514267\n",
              "std         0.843868          0.100795  ...     0.114126     1.230621\n",
              "min         3.800000          0.080000  ...     0.220000     8.000000\n",
              "25%         6.300000          0.210000  ...     0.410000     9.500000\n",
              "50%         6.800000          0.260000  ...     0.470000    10.400000\n",
              "75%         7.300000          0.320000  ...     0.550000    11.400000\n",
              "max        14.200000          1.100000  ...     1.080000    14.200000\n",
              "\n",
              "[8 rows x 11 columns]"
            ]
          },
          "metadata": {
            "tags": []
          },
          "execution_count": 5
        }
      ]
    },
    {
      "cell_type": "code",
      "metadata": {
        "id": "7qmnct4b-AVY",
        "colab_type": "code",
        "outputId": "99472326-ca92-4d18-d762-e3c6c811b680",
        "colab": {
          "base_uri": "https://localhost:8080/",
          "height": 968
        }
      },
      "source": [
        "correlation = white_dataframe.corr()\n",
        "fig, ax = plt.subplots(figsize=(15,15))\n",
        "sns.heatmap(correlation, xticklabels=correlation.columns, yticklabels=correlation.columns,cmap='coolwarm_r', vmin=-1, vmax=1, annot=True, ax=ax)"
      ],
      "execution_count": 6,
      "outputs": [
        {
          "output_type": "execute_result",
          "data": {
            "text/plain": [
              "<matplotlib.axes._subplots.AxesSubplot at 0x7fd25045db38>"
            ]
          },
          "metadata": {
            "tags": []
          },
          "execution_count": 6
        },
        {
          "output_type": "display_data",
          "data": {
            "image/png": "[encoded data removed]",
            "text/plain": [
              "<Figure size 1080x1080 with 2 Axes>"
            ]
          },
          "metadata": {
            "tags": [],
            "needs_background": "light"
          }
        }
      ]
    },
    {
      "cell_type": "markdown",
      "metadata": {
        "id": "kAvdkMRs-dHR",
        "colab_type": "text"
      },
      "source": [
        "**Combined Wine Information and Correlation Matrix**\n",
        "\n",
        "Here we have information on each of the individual attributes of the combined red and white wines. The following information shows us the Averge, Standard Deviation, Min, Max, etc. Below that is the Correlation of each attribute to each other attribute"
      ]
    },
    {
      "cell_type": "code",
      "metadata": {
        "id": "Wspiwl1R-jGK",
        "colab_type": "code",
        "outputId": "f900cbd2-dac3-489b-d365-940c9606fb2f",
        "colab": {
          "base_uri": "https://localhost:8080/",
          "height": 314
        }
      },
      "source": [
        "both = [red_dataframe, white_dataframe]\n",
        "both_dataframe = pd.concat(both)\n",
        "\n",
        "both_dataframe.drop('quality', axis=1).describe()"
      ],
      "execution_count": 7,
      "outputs": [
        {
          "output_type": "execute_result",
          "data": {
            "text/html": [
              "<div>\n",
              "<style scoped>\n",
              "    .dataframe tbody tr th:only-of-type {\n",
              "        vertical-align: middle;\n",
              "    }\n",
              "\n",
              "    .dataframe tbody tr th {\n",
              "        vertical-align: top;\n",
              "    }\n",
              "\n",
              "    .dataframe thead th {\n",
              "        text-align: right;\n",
              "    }\n",
              "</style>\n",
              "<table border=\"1\" class=\"dataframe\">\n",
              "  <thead>\n",
              "    <tr style=\"text-align: right;\">\n",
              "      <th></th>\n",
              "      <th>fixed acidity</th>\n",
              "      <th>volatile acidity</th>\n",
              "      <th>citric acid</th>\n",
              "      <th>residual sugar</th>\n",
              "      <th>chlorides</th>\n",
              "      <th>free sulfur dioxide</th>\n",
              "      <th>total sulfur dioxide</th>\n",
              "      <th>density</th>\n",
              "      <th>pH</th>\n",
              "      <th>sulphates</th>\n",
              "      <th>alcohol</th>\n",
              "    </tr>\n",
              "  </thead>\n",
              "  <tbody>\n",
              "    <tr>\n",
              "      <th>count</th>\n",
              "      <td>6497.000000</td>\n",
              "      <td>6497.000000</td>\n",
              "      <td>6497.000000</td>\n",
              "      <td>6497.000000</td>\n",
              "      <td>6497.000000</td>\n",
              "      <td>6497.000000</td>\n",
              "      <td>6497.000000</td>\n",
              "      <td>6497.000000</td>\n",
              "      <td>6497.000000</td>\n",
              "      <td>6497.000000</td>\n",
              "      <td>6497.000000</td>\n",
              "    </tr>\n",
              "    <tr>\n",
              "      <th>mean</th>\n",
              "      <td>7.215307</td>\n",
              "      <td>0.339666</td>\n",
              "      <td>0.318633</td>\n",
              "      <td>5.443235</td>\n",
              "      <td>0.056034</td>\n",
              "      <td>30.525319</td>\n",
              "      <td>115.744574</td>\n",
              "      <td>0.994697</td>\n",
              "      <td>3.218501</td>\n",
              "      <td>0.531268</td>\n",
              "      <td>10.491801</td>\n",
              "    </tr>\n",
              "    <tr>\n",
              "      <th>std</th>\n",
              "      <td>1.296434</td>\n",
              "      <td>0.164636</td>\n",
              "      <td>0.145318</td>\n",
              "      <td>4.757804</td>\n",
              "      <td>0.035034</td>\n",
              "      <td>17.749400</td>\n",
              "      <td>56.521855</td>\n",
              "      <td>0.002999</td>\n",
              "      <td>0.160787</td>\n",
              "      <td>0.148806</td>\n",
              "      <td>1.192712</td>\n",
              "    </tr>\n",
              "    <tr>\n",
              "      <th>min</th>\n",
              "      <td>3.800000</td>\n",
              "      <td>0.080000</td>\n",
              "      <td>0.000000</td>\n",
              "      <td>0.600000</td>\n",
              "      <td>0.009000</td>\n",
              "      <td>1.000000</td>\n",
              "      <td>6.000000</td>\n",
              "      <td>0.987110</td>\n",
              "      <td>2.720000</td>\n",
              "      <td>0.220000</td>\n",
              "      <td>8.000000</td>\n",
              "    </tr>\n",
              "    <tr>\n",
              "      <th>25%</th>\n",
              "      <td>6.400000</td>\n",
              "      <td>0.230000</td>\n",
              "      <td>0.250000</td>\n",
              "      <td>1.800000</td>\n",
              "      <td>0.038000</td>\n",
              "      <td>17.000000</td>\n",
              "      <td>77.000000</td>\n",
              "      <td>0.992340</td>\n",
              "      <td>3.110000</td>\n",
              "      <td>0.430000</td>\n",
              "      <td>9.500000</td>\n",
              "    </tr>\n",
              "    <tr>\n",
              "      <th>50%</th>\n",
              "      <td>7.000000</td>\n",
              "      <td>0.290000</td>\n",
              "      <td>0.310000</td>\n",
              "      <td>3.000000</td>\n",
              "      <td>0.047000</td>\n",
              "      <td>29.000000</td>\n",
              "      <td>118.000000</td>\n",
              "      <td>0.994890</td>\n",
              "      <td>3.210000</td>\n",
              "      <td>0.510000</td>\n",
              "      <td>10.300000</td>\n",
              "    </tr>\n",
              "    <tr>\n",
              "      <th>75%</th>\n",
              "      <td>7.700000</td>\n",
              "      <td>0.400000</td>\n",
              "      <td>0.390000</td>\n",
              "      <td>8.100000</td>\n",
              "      <td>0.065000</td>\n",
              "      <td>41.000000</td>\n",
              "      <td>156.000000</td>\n",
              "      <td>0.996990</td>\n",
              "      <td>3.320000</td>\n",
              "      <td>0.600000</td>\n",
              "      <td>11.300000</td>\n",
              "    </tr>\n",
              "    <tr>\n",
              "      <th>max</th>\n",
              "      <td>15.900000</td>\n",
              "      <td>1.580000</td>\n",
              "      <td>1.660000</td>\n",
              "      <td>65.800000</td>\n",
              "      <td>0.611000</td>\n",
              "      <td>289.000000</td>\n",
              "      <td>440.000000</td>\n",
              "      <td>1.038980</td>\n",
              "      <td>4.010000</td>\n",
              "      <td>2.000000</td>\n",
              "      <td>14.900000</td>\n",
              "    </tr>\n",
              "  </tbody>\n",
              "</table>\n",
              "</div>"
            ],
            "text/plain": [
              "       fixed acidity  volatile acidity  ...    sulphates      alcohol\n",
              "count    6497.000000       6497.000000  ...  6497.000000  6497.000000\n",
              "mean        7.215307          0.339666  ...     0.531268    10.491801\n",
              "std         1.296434          0.164636  ...     0.148806     1.192712\n",
              "min         3.800000          0.080000  ...     0.220000     8.000000\n",
              "25%         6.400000          0.230000  ...     0.430000     9.500000\n",
              "50%         7.000000          0.290000  ...     0.510000    10.300000\n",
              "75%         7.700000          0.400000  ...     0.600000    11.300000\n",
              "max        15.900000          1.580000  ...     2.000000    14.900000\n",
              "\n",
              "[8 rows x 11 columns]"
            ]
          },
          "metadata": {
            "tags": []
          },
          "execution_count": 7
        }
      ]
    },
    {
      "cell_type": "code",
      "metadata": {
        "id": "NbxsEAYm-5CF",
        "colab_type": "code",
        "outputId": "72052ee7-9511-4cfc-b22d-bdc8a38bf027",
        "colab": {
          "base_uri": "https://localhost:8080/",
          "height": 968
        }
      },
      "source": [
        "correlation = both_dataframe.corr()\n",
        "fig, ax = plt.subplots(figsize=(15,15))\n",
        "sns.heatmap(correlation, xticklabels=correlation.columns, yticklabels=correlation.columns,cmap='coolwarm_r', vmin=-1, vmax=1, annot=True, ax=ax)"
      ],
      "execution_count": 8,
      "outputs": [
        {
          "output_type": "execute_result",
          "data": {
            "text/plain": [
              "<matplotlib.axes._subplots.AxesSubplot at 0x7fd2518fc518>"
            ]
          },
          "metadata": {
            "tags": []
          },
          "execution_count": 8
        },
        {
          "output_type": "display_data",
          "data": {
            "image/png": "[encoded data removed]",
            "text/plain": [
              "<Figure size 1080x1080 with 2 Axes>"
            ]
          },
          "metadata": {
            "tags": [],
            "needs_background": "light"
          }
        }
      ]
    },
    {
      "cell_type": "markdown",
      "metadata": {
        "id": "nFyw91JT8f2H",
        "colab_type": "text"
      },
      "source": [
        "Steps:\n",
        "Distribution:\n",
        "  -Bar graph of distribution\n",
        "  -Normalize Data\n",
        "\n",
        "PCA Analyses to get the most important components\n",
        "  -Visulaization\n",
        "  -Short discussion and reasoning\n",
        "Types of Anlayses to use and compare\n",
        "LDA\n",
        "Ridge Regression\n",
        "  -Cross Validation\n",
        "SVM\n",
        "\n",
        "Precision Should be low:\n",
        "Try Clustering with poor, good, great\n",
        "GMM\n",
        "K-means\n",
        "Compare accuracy of models\n",
        "\n",
        "Create Regression models within classes\n",
        "Compare to original results\n",
        "\n",
        "\n"
      ]
    },
    {
      "cell_type": "code",
      "metadata": {
        "id": "GXMjBvXAAb7v",
        "colab_type": "code",
        "colab": {}
      },
      "source": [
        "from __future__ import absolute_import\n",
        "from __future__ import print_function\n",
        "from __future__ import division\n",
        "\n",
        "%matplotlib inline  \n",
        "\n",
        "import sys\n",
        "from math import *\n",
        "import matplotlib\n",
        "import numpy as np\n",
        "import matplotlib.pyplot as plt\n",
        "from mpl_toolkits.mplot3d import axes3d\n",
        "from tqdm import tqdm\n",
        "import os\n",
        "from scipy import ndimage, misc\n",
        "from matplotlib import pyplot as plt\n",
        "import numpy as np\n",
        "import imageio\n",
        "from sklearn.datasets import load_boston, load_diabetes, load_digits, load_breast_cancer, load_iris, load_wine\n",
        "%matplotlib inline\n",
        "from sklearn.cluster import KMeans\n",
        "\n",
        "data_red=np.genfromtxt(\"RedWine.csv\", delimiter=',')\n",
        "X_red = data_red[1:,:-1]\n",
        "Y_red = data_red[1:,-1]\n",
        "\n",
        "\n",
        "data_white=np.genfromtxt(\"WhiteWine.csv\", delimiter=',')\n",
        "X_white = data_white[1:,:-1]\n",
        "Y_white = data_white[1:,-1]"
      ],
      "execution_count": 0,
      "outputs": []
    },
    {
      "cell_type": "markdown",
      "metadata": {
        "id": "bzgjxXgPVO5d",
        "colab_type": "text"
      },
      "source": [
        "Data Distribution"
      ]
    },
    {
      "cell_type": "code",
      "metadata": {
        "id": "oHfotuXgVR01",
        "colab_type": "code",
        "outputId": "e87cf41f-7469-4f4c-c5af-5c3726ccf86d",
        "colab": {
          "base_uri": "https://localhost:8080/",
          "height": 282
        }
      },
      "source": [
        "buckets = [0] * 10\n",
        "\n",
        "for i in range(len(Y_red)):\n",
        "  buckets[int(Y_red[i])] += 1\n",
        "\n",
        "plt.bar(range(len(buckets)), buckets)"
      ],
      "execution_count": 0,
      "outputs": [
        {
          "output_type": "execute_result",
          "data": {
            "text/plain": [
              "<BarContainer object of 10 artists>"
            ]
          },
          "metadata": {
            "tags": []
          },
          "execution_count": 6
        },
        {
          "output_type": "display_data",
          "data": {
            "image/png": "[encoded data removed]",
            "text/plain": [
              "<Figure size 432x288 with 1 Axes>"
            ]
          },
          "metadata": {
            "tags": [],
            "needs_background": "light"
          }
        }
      ]
    },
    {
      "cell_type": "code",
      "metadata": {
        "id": "zUmLpPlsD_JG",
        "colab_type": "code",
        "colab": {}
      },
      "source": [
        "def plot_curve(x, y, color, label_x, label_y, curve_type='.', lw=2):\n",
        "    plt.plot(x, y, curve_type, color=color, linewidth=lw, )\n",
        "    plt.xlabel(label_x)\n",
        "    plt.ylabel(label_y)\n",
        "    plt.grid(True)"
      ],
      "execution_count": 0,
      "outputs": []
    },
    {
      "cell_type": "code",
      "metadata": {
        "id": "8_JIEzWDDrnW",
        "colab_type": "code",
        "colab": {}
      },
      "source": [
        "def pca(X):\n",
        "    \"\"\"\n",
        "    Decompose dataset into principal components. \n",
        "    You may use your SVD function from the previous part in your implementation.\n",
        "    \n",
        "    Args: \n",
        "        X: N*D array corresponding to a dataset\n",
        "    Return:\n",
        "        U: N*N \n",
        "        S: min(N, D)*1 \n",
        "        V: D*D\n",
        "    \"\"\"\n",
        "    U, s, VT = np.linalg.svd(X)\n",
        "    return U, s, VT\n",
        "\n",
        "    \n",
        "def intrinsic_dimension(S, recovered_variance=.99):\n",
        "    \"\"\"\n",
        "    Find the number of principal components necessary to recover given proportion of variance\n",
        "    \n",
        "    Args: \n",
        "        S: 1-d array corresponding to the singular values of a dataset\n",
        "        \n",
        "        recovered_varaiance: float in [0,1].  Minimum amount of variance \n",
        "            to recover from given principal components\n",
        "    Return:\n",
        "        dim: int, the number of principal components necessary to recover \n",
        "            the given proportion of the variance\n",
        "    \"\"\"\n",
        "    x = 0\n",
        "    k = 0\n",
        "    closed_list = []\n",
        "    print(S.shape)\n",
        "    open_list = np.copy(S).tolist()\n",
        "\n",
        "    while x < .99:\n",
        "      k = k + 1\n",
        "      a = np.max(open_list)\n",
        "      open_list.remove(a)  \n",
        "      closed_list.append(a)\n",
        "      x  = sum(closed_list)/sum(S)\n",
        "    return k\n",
        "\n",
        "def num_linearly_ind_features(S, eps=1e-11):\n",
        "    \"\"\"\n",
        "    Find the number of linearly independent features in dataset\n",
        "    \n",
        "    Args: \n",
        "        S: 1-d array corresponding to the singular values of a dataset\n",
        "    Return:\n",
        "        dim: int, the number of linearly independent dimensions in our data\n",
        "    \"\"\"\n",
        "    count = 0\n",
        "    for val in S:\n",
        "      if val > eps:\n",
        "        count = count + 1\n",
        "    return count\n",
        "  "
      ],
      "execution_count": 0,
      "outputs": []
    },
    {
      "cell_type": "code",
      "metadata": {
        "id": "QoG9M5q3Dx_D",
        "colab_type": "code",
        "colab": {}
      },
      "source": [
        "def visualize(X,y, color, x_label, y_label):\n",
        "  \"\"\"\n",
        "  Args:\n",
        "  X: NxD numpy array, where N is number \n",
        "          of instances and D is the dimensionality of each \n",
        "          instance\n",
        "  y: numpy array (N,), the true labels\n",
        "  \n",
        "  Return:\n",
        "  retained variance: scalar\n",
        "  \"\"\"\n",
        "  U, s, VT = np.linalg.svd(X)\n",
        "  proj = VT[:,0:2]\n",
        "  data = X @ proj\n",
        "  plot_curve(data[:,0],data[:,1], color, x_label, y_label)\n",
        "\n",
        "\n",
        "  return np.sum(s[0:2])/np.sum(s)"
      ],
      "execution_count": 0,
      "outputs": []
    },
    {
      "cell_type": "code",
      "metadata": {
        "id": "Nu_6U74zD4C-",
        "colab_type": "code",
        "outputId": "e0209da5-5b96-48a6-b950-d5397cd70e15",
        "colab": {
          "base_uri": "https://localhost:8080/",
          "height": 314
        }
      },
      "source": [
        "#Use PCA for visualization of  wine data\n",
        "\n",
        "retained_variance_for_wine=visualize(X_red,Y_red, 'r', 'Total Sulfur Dioxide','Free Sulfur Dioxide')\n",
        "print(\"Retained variance for Red wine dataset \",retained_variance_for_wine)\n",
        "\n",
        "retained_variance_for_wine=visualize(X_white,Y_white,'b','total Sulfur Dioxide','Free Sulfur Dioxide')\n",
        "print(\"Retained variance for White wine dataset \",retained_variance_for_wine)"
      ],
      "execution_count": 0,
      "outputs": [
        {
          "output_type": "stream",
          "text": [
            "Retained variance for Red wine dataset  0.8719649571064835\n",
            "Retained variance for White wine dataset  0.9394991384049234\n"
          ],
          "name": "stdout"
        },
        {
          "output_type": "display_data",
          "data": {
            "image/png": "[encoded data removed]",
            "text/plain": [
              "<Figure size 432x288 with 1 Axes>"
            ]
          },
          "metadata": {
            "tags": [],
            "needs_background": "light"
          }
        }
      ]
    },
    {
      "cell_type": "markdown",
      "metadata": {
        "id": "8v9RejIHGYIJ",
        "colab_type": "text"
      },
      "source": [
        "Perform PCA on Data"
      ]
    },
    {
      "cell_type": "code",
      "metadata": {
        "id": "FQ-S3X8QGcZh",
        "colab_type": "code",
        "colab": {}
      },
      "source": [
        "def rmse(pred, label): \n",
        "    '''\n",
        "    This is the root mean square error.\n",
        "    Args:\n",
        "        pred: numpy array of length N * 1, the prediction of labels\n",
        "        label: numpy array of length N * 1, the ground truth of labels\n",
        "    Return:\n",
        "        a float value\n",
        "    '''\n",
        "    dif = pred - label\n",
        "    dif = dif**2\n",
        "    dif = dif/len(pred)\n",
        "    sum_dif =sum(dif)\n",
        "    return np.sqrt(sum_dif)\n"
      ],
      "execution_count": 0,
      "outputs": []
    },
    {
      "cell_type": "code",
      "metadata": {
        "id": "dEjF7flcGvgx",
        "colab_type": "code",
        "colab": {}
      },
      "source": [
        "class LinearReg(object):\n",
        "    @staticmethod \n",
        "    # static method means that you can use this method or function for any other classes, it is not specific to LinearReg\n",
        "    def fit_closed(xtrain, ytrain):\n",
        "        \"\"\"\n",
        "        Args:\n",
        "            xtrain: NxD numpy array, where N is number \n",
        "                    of instances and D is the dimensionality of each \n",
        "                    instance\n",
        "            ytrain: Nx1 numpy array, the true labels\n",
        "        Return:\n",
        "            weight: Dx1 numpy array, the weights of linear regression model\n",
        "        \"\"\"\n",
        "        x = xtrain.T  @ xtrain\n",
        "        x = np.linalg.inv(x) @ xtrain.T \n",
        "        x = x @ ytrain\n",
        "        return x\n",
        "\n",
        "    def predict(xtest, weight):\n",
        "        \"\"\"\n",
        "        Args:\n",
        "            xtest: NxD numpy array, where N is number \n",
        "                   of instances and D is the dimensionality of each \n",
        "                   instance\n",
        "            weight: Dx1 numpy array, the weights of linear regression model\n",
        "        Return:\n",
        "            prediction: Nx1 numpy array, the predicted labels\n",
        "        \"\"\"\n",
        "        \n",
        "        return xtest @ weight\n",
        "        "
      ],
      "execution_count": 0,
      "outputs": []
    },
    {
      "cell_type": "code",
      "metadata": {
        "id": "-wdOI1pOGo2g",
        "colab_type": "code",
        "colab": {}
      },
      "source": [
        "class RidgeReg(LinearReg):\n",
        "\n",
        "    @staticmethod\n",
        "    def fit_closed(xtrain, ytrain, c_lambda):\n",
        "      m,n = xtrain.shape\n",
        "      I = np.eye((n))\n",
        "      G = c_lambda * I\n",
        "      G[0,0] = 0\n",
        "      return (np.linalg.inv(xtrain.T @ xtrain + G) @ xtrain.T @ ytrain)\n",
        "  \n"
      ],
      "execution_count": 0,
      "outputs": []
    },
    {
      "cell_type": "code",
      "metadata": {
        "id": "dMO6jC3pHALS",
        "colab_type": "code",
        "colab": {}
      },
      "source": [
        "#apply PCA on the dataset and also find the number of linearly independent and intrinsic components \n",
        "def apply_PCA_on_data(X):\n",
        "  \"\"\"\n",
        "  Args:\n",
        "  X: NxD numpy array, where N is number \n",
        "          of instances and D is the dimensionality of each \n",
        "          instance\n",
        "  Return:\n",
        "  X_pca: pca reduced dataset\n",
        "  independent_features: number of independent features \n",
        "  intrinsic_dimensions: number of intrinsic dimensions\n",
        "  \"\"\"\n",
        "  \n",
        "  U, s, VT = np.linalg.svd(X)\n",
        "  k = intrinsic_dimension(s)\n",
        "  proj = VT[:,0:k]\n",
        "  data = X @ proj\n",
        "  return data, num_linearly_ind_features(s), k"
      ],
      "execution_count": 0,
      "outputs": []
    },
    {
      "cell_type": "code",
      "metadata": {
        "id": "UGOO_SeuHCDC",
        "colab_type": "code",
        "colab": {}
      },
      "source": [
        "def apply_regression(X_train,y_train,X_test):\n",
        "  \"\"\"\n",
        "  Args:\n",
        "  X_train: training data without labels\n",
        "  y_train: training labels\n",
        "  X_test: test data \n",
        "\n",
        "  Return:\n",
        "  y_pred: predicted labels\n",
        "  \"\"\"\n",
        "  w = RidgeReg.fit_closed(X_train, y_train, c_lambda = 0)\n",
        "  return X_test @ w"
      ],
      "execution_count": 0,
      "outputs": []
    },
    {
      "cell_type": "markdown",
      "metadata": {
        "id": "SkWjH7HjN09R",
        "colab_type": "text"
      },
      "source": [
        "Cross Validation"
      ]
    },
    {
      "cell_type": "code",
      "metadata": {
        "id": "cYaD6HSPNzMB",
        "colab_type": "code",
        "outputId": "24187eed-f012-419d-be7a-1f42ec0720cf",
        "colab": {
          "base_uri": "https://localhost:8080/",
          "height": 170
        }
      },
      "source": [
        "def cross_validation(X, y, kfold, c_lambda):\n",
        "    X_groups = np.split(X, kfold, axis = 0)\n",
        "    Y_groups = np.split(y, kfold, axis = 0)\n",
        "    r = 0\n",
        "    for i in range(kfold):\n",
        "      w = RidgeReg.fit_closed(X, y, c_lambda)\n",
        "      y_pred = RidgeReg.predict(X_groups[i], w)\n",
        "      r += rmse(y_pred, Y_groups[i])   \n",
        "    return r/kfold     \n",
        "    \n",
        "X_redCV = X_red[:-9]\n",
        "Y_redCV = Y_red[:-9]\n",
        "\n",
        "best_lambda = None\n",
        "best_error = None\n",
        "kfold = 10\n",
        "lambda_list = [0, 0.1, 1, 5, 10, 100, 1000]\n",
        "for lm in lambda_list:\n",
        "    err = cross_validation(X_redCV, Y_redCV, kfold, lm)\n",
        "    print('lambda: %.2f' % lm, 'error: %.6f'% err)\n",
        "    if best_error is None or err < best_error:\n",
        "        best_error = err\n",
        "        best_lambda = lm\n",
        "\n",
        "\n",
        "print('best_lambda for Red Wine: %.2f' % best_lambda)\n",
        "weight = RidgeReg.fit_closed(X_redCV, Y_redCV, c_lambda=10)\n",
        "y_test_pred = RidgeReg.predict(X_redCV, weight)\n",
        "test_rmse = rmse(y_test_pred, Y_redCV)\n",
        "print('test rmse: %.4f' % test_rmse)\n"
      ],
      "execution_count": 0,
      "outputs": [
        {
          "output_type": "stream",
          "text": [
            "lambda: 0.00 error: 0.646135\n",
            "lambda: 0.10 error: 0.646210\n",
            "lambda: 1.00 error: 0.648945\n",
            "lambda: 5.00 error: 0.654520\n",
            "lambda: 10.00 error: 0.657310\n",
            "lambda: 100.00 error: 0.677917\n",
            "lambda: 1000.00 error: 0.704367\n",
            "best_lambda for Red Wine: 0.00\n",
            "test rmse: 0.6585\n"
          ],
          "name": "stdout"
        }
      ]
    },
    {
      "cell_type": "code",
      "metadata": {
        "id": "TF0zXW3AN4f8",
        "colab_type": "code",
        "outputId": "8d617b58-3bbf-4a1d-9626-e0f29a1fc52f",
        "colab": {
          "base_uri": "https://localhost:8080/",
          "height": 170
        }
      },
      "source": [
        "def cross_validation(X, y, kfold, c_lambda):\n",
        "    X_groups = np.split(X, kfold, axis = 0)\n",
        "    Y_groups = np.split(y, kfold, axis = 0)\n",
        "    r = 0\n",
        "    for i in range(kfold):\n",
        "      w = RidgeReg.fit_closed(X, y, c_lambda)\n",
        "      y_pred = RidgeReg.predict(X_groups[i], w)\n",
        "      r += rmse(y_pred, Y_groups[i])   \n",
        "    return r/kfold   \n",
        "\n",
        "    \n",
        "X_whiteCV = X_white[:-8]\n",
        "Y_whiteCV = Y_white[:-8]\n",
        "\n",
        "best_lambda = None\n",
        "best_error = None\n",
        "kfold = 10\n",
        "lambda_list = [0, 0.1, 1, 5, 10, 100, 1000]\n",
        "for lm in lambda_list:\n",
        "    err = cross_validation(X_whiteCV, Y_whiteCV, kfold, lm)\n",
        "    print('lambda: %.2f' % lm, 'error: %.6f'% err)\n",
        "    if best_error is None or err < best_error:\n",
        "        best_error = err\n",
        "        best_lambda = lm\n",
        "\n",
        "\n",
        "print('best_lambda for White Wine: %.2f' % best_lambda)\n",
        "weight = RidgeReg.fit_closed(X_whiteCV, Y_whiteCV, c_lambda=10)\n",
        "y_test_pred = RidgeReg.predict(X_whiteCV, weight)\n",
        "test_rmse = rmse(y_test_pred, Y_whiteCV)\n",
        "print('test rmse: %.4f' % test_rmse)\n"
      ],
      "execution_count": 0,
      "outputs": [
        {
          "output_type": "stream",
          "text": [
            "lambda: 0.00 error: 0.753389\n",
            "lambda: 0.10 error: 0.753396\n",
            "lambda: 1.00 error: 0.753554\n",
            "lambda: 5.00 error: 0.754501\n",
            "lambda: 10.00 error: 0.755552\n",
            "lambda: 100.00 error: 0.767648\n",
            "lambda: 1000.00 error: 0.786491\n",
            "best_lambda for White Wine: 0.00\n",
            "test rmse: 0.7577\n"
          ],
          "name": "stdout"
        }
      ]
    },
    {
      "cell_type": "markdown",
      "metadata": {
        "id": "HjzFgTu2vSlm",
        "colab_type": "text"
      },
      "source": [
        "PCA For every Group red Wine"
      ]
    },
    {
      "cell_type": "code",
      "metadata": {
        "id": "ER90FbP0gF_Y",
        "colab_type": "code",
        "outputId": "ac927b89-3496-4ca4-92d1-f6e2025d7311",
        "colab": {
          "base_uri": "https://localhost:8080/",
          "height": 337
        }
      },
      "source": [
        "X_red_ratings = [[]]\n",
        "Y_red_ratings = [[]]\n",
        "for i in range(10):\n",
        "  X_red_ratings.append([])\n",
        "  Y_red_ratings.append([])\n",
        "\n",
        "for i in range(len(Y_red)):\n",
        "  rating = int(Y_red[i])\n",
        "  X_red_ratings[rating].append(X_red[i])\n",
        "  Y_red_ratings[rating].append(Y_red[i])\n",
        "\n",
        "X_red_ratings = np.asarray(X_red_ratings)\n",
        "Y_red_ratings = np.asarray(Y_red_ratings)\n",
        "\n",
        "for i in range(10):\n",
        "  if(len(X_red_ratings[i]) > 0):\n",
        "    X_PCA, ind_features, intrinsic_dimensions = apply_PCA_on_data(X_red_ratings[i])\n",
        "    print(\"data shape with PCA \",X_PCA.shape)\n",
        "    print(\"Number of independent features \",ind_features)\n",
        "    print(\"Number of intrinsic components \",intrinsic_dimensions)\n",
        "\n",
        "    #get training and testing data \n",
        "    X_train=X_PCA[:int(0.8*len(X_PCA)),:]\n",
        "    y_train=np.asarray(Y_red_ratings[i])[:int(0.8*len(X_PCA))].reshape(-1,1)\n",
        "    X_test=X_PCA[int(0.8*len(X_PCA)):]\n",
        "    y_test=np.asarray(Y_red_ratings[i])[int(0.8*len(X_PCA)):].reshape(-1,1)\n",
        "\n",
        "    #use Ridge Regression for getting predcited labels\n",
        "    y_pred=apply_regression(X_train,y_train,X_test)\n",
        "\n",
        "    #calculate RMSE \n",
        "    rmse_score = rmse(y_pred, y_test)\n",
        "    print(\"rmse of Red Wine score with PCA for group: \",i + 1,rmse_score)\n",
        "    i += 1\n",
        "    avg += rmse_score\n",
        "print(\"Average rmse: \", avg/i)\n",
        "\n"
      ],
      "execution_count": 0,
      "outputs": [
        {
          "output_type": "stream",
          "text": [
            "(10,)\n",
            "data shape with PCA  (10, 5)\n",
            "Number of independent features  10\n",
            "Number of intrinsic components  5\n",
            "rmse of Red Wine score with PCA for group:  4 [0.31218574]\n"
          ],
          "name": "stdout"
        },
        {
          "output_type": "error",
          "ename": "NameError",
          "evalue": "ignored",
          "traceback": [
            "\u001b[0;31m---------------------------------------------------------------------------\u001b[0m",
            "\u001b[0;31mNameError\u001b[0m                                 Traceback (most recent call last)",
            "\u001b[0;32m<ipython-input-19-170d8b22e235>\u001b[0m in \u001b[0;36m<module>\u001b[0;34m()\u001b[0m\n\u001b[1;32m     33\u001b[0m     \u001b[0mprint\u001b[0m\u001b[0;34m(\u001b[0m\u001b[0;34m\"rmse of Red Wine score with PCA for group: \"\u001b[0m\u001b[0;34m,\u001b[0m\u001b[0mi\u001b[0m \u001b[0;34m+\u001b[0m \u001b[0;36m1\u001b[0m\u001b[0;34m,\u001b[0m\u001b[0mrmse_score\u001b[0m\u001b[0;34m)\u001b[0m\u001b[0;34m\u001b[0m\u001b[0;34m\u001b[0m\u001b[0m\n\u001b[1;32m     34\u001b[0m     \u001b[0mi\u001b[0m \u001b[0;34m+=\u001b[0m \u001b[0;36m1\u001b[0m\u001b[0;34m\u001b[0m\u001b[0;34m\u001b[0m\u001b[0m\n\u001b[0;32m---> 35\u001b[0;31m     \u001b[0mavg\u001b[0m \u001b[0;34m+=\u001b[0m \u001b[0mrmse_score\u001b[0m\u001b[0;34m\u001b[0m\u001b[0;34m\u001b[0m\u001b[0m\n\u001b[0m\u001b[1;32m     36\u001b[0m \u001b[0mprint\u001b[0m\u001b[0;34m(\u001b[0m\u001b[0;34m\"Average rmse: \"\u001b[0m\u001b[0;34m,\u001b[0m \u001b[0mavg\u001b[0m\u001b[0;34m/\u001b[0m\u001b[0mi\u001b[0m\u001b[0;34m)\u001b[0m\u001b[0;34m\u001b[0m\u001b[0;34m\u001b[0m\u001b[0m\n\u001b[1;32m     37\u001b[0m \u001b[0;34m\u001b[0m\u001b[0m\n",
            "\u001b[0;31mNameError\u001b[0m: name 'avg' is not defined"
          ]
        }
      ]
    },
    {
      "cell_type": "markdown",
      "metadata": {
        "id": "hZAoOID8vYHW",
        "colab_type": "text"
      },
      "source": [
        "Whtie"
      ]
    },
    {
      "cell_type": "code",
      "metadata": {
        "id": "e7eTELSsvXH-",
        "colab_type": "code",
        "outputId": "4dc0181a-01b7-4c1e-c613-8c2174269ee3",
        "colab": {
          "base_uri": "https://localhost:8080/",
          "height": 544
        }
      },
      "source": [
        "X_white_ratings = [[]]\n",
        "Y_white_ratings = [[]]\n",
        "for i in range(10):\n",
        "  X_white_ratings.append([])\n",
        "  Y_white_ratings.append([])\n",
        "\n",
        "for i in range(len(Y_red)):\n",
        "  rating = int(Y_red[i])\n",
        "  X_white_ratings[rating].append(X_white[i])\n",
        "  Y_white_ratings[rating].append(Y_white[i])\n",
        "\n",
        "X_white_ratings = np.asarray(X_white_ratings)\n",
        "Y_white_ratings = np.asarray(Y_white_ratings)\n",
        "avg = 0\n",
        "l = 0\n",
        "\n",
        "for i in range(10):\n",
        "  if(len(X_white_ratings[i]) > 0):\n",
        "    X_PCA, ind_features, intrinsic_dimensions = apply_PCA_on_data(X_white_ratings[i])\n",
        "    print(\"data shape with PCA \",X_PCA.shape)\n",
        "    print(\"Number of independent features \",ind_features)\n",
        "    print(\"Number of intrinsic components \",intrinsic_dimensions)\n",
        "\n",
        "    #get training and testing data \n",
        "    X_train=X_PCA[:int(0.8*len(X_PCA)),:]\n",
        "    y_train=np.asarray(Y_white_ratings[i])[:int(0.8*len(X_PCA))].reshape(-1,1)\n",
        "    X_test=X_PCA[int(0.8*len(X_PCA)):]\n",
        "    y_test=np.asarray(Y_white_ratings[i])[int(0.8*len(X_PCA)):].reshape(-1,1)\n",
        "\n",
        "    #use Ridge Regression for getting predcited labels\n",
        "    y_pred=apply_regression(X_train,y_train,X_test)\n",
        "\n",
        "    #calculate RMSE \n",
        "    rmse_score = rmse(y_pred, y_test)\n",
        "    print(\"rmse of White Wine score with PCA for group: \",i + 1,rmse_score)\n",
        "    l += 1\n",
        "    avg += rmse_score\n",
        "print(\"Average rmse: \", avg/l)\n",
        "    "
      ],
      "execution_count": 0,
      "outputs": [
        {
          "output_type": "stream",
          "text": [
            "(10,)\n",
            "data shape with PCA  (10, 4)\n",
            "Number of independent features  10\n",
            "Number of intrinsic components  4\n",
            "rmse of White Wine score with PCA for group:  4 [1.34738746]\n",
            "(11,)\n",
            "data shape with PCA  (53, 4)\n",
            "Number of independent features  11\n",
            "Number of intrinsic components  4\n",
            "rmse of White Wine score with PCA for group:  5 [1.34942091]\n",
            "(11,)\n",
            "data shape with PCA  (681, 4)\n",
            "Number of independent features  11\n",
            "Number of intrinsic components  4\n",
            "rmse of White Wine score with PCA for group:  6 [0.97046762]\n",
            "(11,)\n",
            "data shape with PCA  (638, 4)\n",
            "Number of independent features  11\n",
            "Number of intrinsic components  4\n",
            "rmse of White Wine score with PCA for group:  7 [0.77471096]\n",
            "(11,)\n",
            "data shape with PCA  (199, 4)\n",
            "Number of independent features  11\n",
            "Number of intrinsic components  4\n",
            "rmse of White Wine score with PCA for group:  8 [0.92795544]\n",
            "(11,)\n",
            "data shape with PCA  (18, 4)\n",
            "Number of independent features  11\n",
            "Number of intrinsic components  4\n",
            "rmse of White Wine score with PCA for group:  9 [1.76688812]\n",
            "Average rmse:  [1.18947175]\n"
          ],
          "name": "stdout"
        }
      ]
    },
    {
      "cell_type": "code",
      "metadata": {
        "id": "iYVmp7iUHF8N",
        "colab_type": "code",
        "outputId": "8e655da7-e01c-4fe9-e77a-b1ac4df3ed1d",
        "colab": {
          "base_uri": "https://localhost:8080/",
          "height": 102
        }
      },
      "source": [
        "#load the dataset \n",
        "\n",
        "\n",
        "X_PCA, ind_features, intrinsic_dimensions = apply_PCA_on_data(X_red)\n",
        "print(\"data shape with PCA \",X_PCA.shape)\n",
        "print(\"Number of independent features \",ind_features)\n",
        "print(\"Number of intrinsic components \",intrinsic_dimensions)\n",
        "\n",
        "#get training and testing data \n",
        "X_train=X_PCA[:int(0.8*len(X_PCA)),:]\n",
        "y_train=Y_red[:int(0.8*len(X_PCA))].reshape(-1,1)\n",
        "X_test=X_PCA[int(0.8*len(X_PCA)):]\n",
        "y_test=Y_red[int(0.8*len(X_PCA)):].reshape(-1,1)\n",
        "\n",
        "#use Ridge Regression for getting predcited labels\n",
        "y_pred=apply_regression(X_train,y_train,X_test)\n",
        "\n",
        "#calculate RMSE \n",
        "rmse_score = rmse(y_pred, y_test)\n",
        "print(\"rmse of Red Wine score with PCA\",rmse_score)\n"
      ],
      "execution_count": 0,
      "outputs": [
        {
          "output_type": "stream",
          "text": [
            "(11,)\n",
            "data shape with PCA  (1599, 6)\n",
            "Number of independent features  11\n",
            "Number of intrinsic components  6\n",
            "rmse of Red Wine score with PCA [0.82285788]\n"
          ],
          "name": "stdout"
        }
      ]
    },
    {
      "cell_type": "code",
      "metadata": {
        "id": "EG7kX-RwHKY5",
        "colab_type": "code",
        "outputId": "965afdc8-0b7c-44af-c38a-a619bac6b768",
        "colab": {
          "base_uri": "https://localhost:8080/",
          "height": 51
        }
      },
      "source": [
        "#Ridge regression without PCA\n",
        "X_train=X_red[:int(0.8*len(X_red)),:]\n",
        "y_train=Y_red[:int(0.8*len(X_red))].reshape(-1,1)\n",
        "X_test=X_red[int(0.8*len(X_red)):]\n",
        "y_test=Y_red[int(0.8*len(X_red)):].reshape(-1,1)\n",
        "\n",
        "#use Ridge Regression for getting predcited labels\n",
        "y_pred=apply_regression(X_train,y_train,X_test)\n",
        "\n",
        "#calculate RMSE \n",
        "print(X_train.shape)\n",
        "rmse_score = rmse(y_pred, y_test)\n",
        "print(\"rmse score of Red Wine without PCA\",rmse_score)"
      ],
      "execution_count": 0,
      "outputs": [
        {
          "output_type": "stream",
          "text": [
            "(1279, 11)\n",
            "rmse score of Red Wine without PCA [0.65692807]\n"
          ],
          "name": "stdout"
        }
      ]
    },
    {
      "cell_type": "code",
      "metadata": {
        "id": "69lcaACCHuKd",
        "colab_type": "code",
        "outputId": "38fc0836-72e5-4f29-cc78-7e35fd864d8c",
        "colab": {
          "base_uri": "https://localhost:8080/",
          "height": 102
        }
      },
      "source": [
        "#load the dataset \n",
        "X_PCA, ind_features, intrinsic_dimensions = apply_PCA_on_data(X_white)\n",
        "print(\"data shape with PCA \",X_PCA.shape)\n",
        "print(\"Number of independent features \",ind_features)\n",
        "print(\"Number of intrinsic components \",intrinsic_dimensions)\n",
        "\n",
        "#get training and testing data \n",
        "X_train=X_PCA[:int(0.8*len(X_PCA)),:]\n",
        "y_train=Y_white[:int(0.8*len(X_PCA))].reshape(-1,1)\n",
        "X_test=X_PCA[int(0.8*len(X_PCA)):]\n",
        "y_test=Y_white[int(0.8*len(X_PCA)):].reshape(-1,1)\n",
        "\n",
        "#use Ridge Regression for getting predcited labels\n",
        "y_pred=apply_regression(X_train,y_train,X_test)\n",
        "\n",
        "#calculate RMSE \n",
        "rmse_score = rmse(y_pred, y_test)\n",
        "print(\"rmse of White Wine score with PCA\",rmse_score)\n"
      ],
      "execution_count": 0,
      "outputs": [
        {
          "output_type": "stream",
          "text": [
            "(11,)\n",
            "data shape with PCA  (4898, 4)\n",
            "Number of independent features  11\n",
            "Number of intrinsic components  4\n",
            "rmse of White Wine score with PCA [0.83946337]\n"
          ],
          "name": "stdout"
        }
      ]
    },
    {
      "cell_type": "code",
      "metadata": {
        "id": "58uxGyiLIA5e",
        "colab_type": "code",
        "outputId": "7ddf5388-b376-49aa-a653-fb5e64b9d645",
        "colab": {
          "base_uri": "https://localhost:8080/",
          "height": 51
        }
      },
      "source": [
        "#Ridge regression without PCA\n",
        "X_train=X_white[:int(0.8*len(X_white)),:]\n",
        "y_train=Y_white[:int(0.8*len(X_white))].reshape(-1,1)\n",
        "X_test=X_white[int(0.8*len(X_white)):]\n",
        "y_test=Y_white[int(0.8*len(X_white)):].reshape(-1,1)\n",
        "\n",
        "#use Ridge Regression for getting predcited labels\n",
        "y_pred=apply_regression(X_train,y_train,X_test)\n",
        "\n",
        "#calculate RMSE \n",
        "print(X_train.shape)\n",
        "rmse_score = rmse(y_pred, y_test)\n",
        "print(\"rmse score of White Wine without PCA\",rmse_score)"
      ],
      "execution_count": 0,
      "outputs": [
        {
          "output_type": "stream",
          "text": [
            "(3918, 11)\n",
            "rmse score of White Wine without PCA [0.71521091]\n"
          ],
          "name": "stdout"
        }
      ]
    },
    {
      "cell_type": "markdown",
      "metadata": {
        "id": "AV5F3t2BVt2R",
        "colab_type": "text"
      },
      "source": [
        "Classifying Wines"
      ]
    },
    {
      "cell_type": "code",
      "metadata": {
        "id": "GAJ_EGU1VwyS",
        "colab_type": "code",
        "outputId": "cec98e26-beeb-4f1f-b7d7-4391399485be",
        "colab": {
          "base_uri": "https://localhost:8080/",
          "height": 368
        }
      },
      "source": [
        "\n",
        "#Bad Wine 0-4\n",
        "#Good Wine 5-6\n",
        "#Great Wine 7+\n",
        "\n",
        "\n",
        "U, s, VT = np.linalg.svd(X_red)\n",
        "proj = VT[:,0:3]\n",
        "data = X_red @ proj\n",
        "\n",
        "k = 3\n",
        "kmeans = KMeans(k, random_state=0).fit(data)\n",
        "#kmeans.predict(data[0]\n",
        "predictions = kmeans.fit_predict(data)\n",
        "print(predictions[0:20])\n",
        "cluster_labels = kmeans.labels_\n",
        "\n",
        "clusters = [0] * k\n",
        "len_clusters = [0] * k\n",
        "\n",
        "for i in range(len(predictions)):\n",
        "  clusters[predictions[i]] += Y_red[i]\n",
        "  len_clusters[predictions[i]] += 1\n",
        "\n",
        "for i in range(len(clusters)):\n",
        "  clusters[i] = clusters[i]/len_clusters[i]\n",
        "\n",
        "\n",
        "print(\"Ratings and Centers Per Column\")\n",
        "print(len_clusters)\n",
        "print(clusters)\n",
        "print(kmeans.cluster_centers_.T)\n",
        "\n",
        "def visualise(X, C, K):#Visualization of clustering. You don't need to change this function   \n",
        "    fig = plt.figure()\n",
        "    ax = fig.gca(projection='3d')\n",
        "    ax.scatter(X[:,0], X[:,1], X[:,2], c=C,cmap='rainbow')\n",
        "    plt.title('Visualization of K = '+str(K), fontsize=15)\n",
        "    plt.show()\n",
        "    pass\n",
        "visualise(X_red, kmeans.labels_,k)"
      ],
      "execution_count": 0,
      "outputs": [
        {
          "output_type": "stream",
          "text": [
            "[2 0 0 0 2 0 0 2 2 1 0 1 0 2 1 1 1 0 2 0]\n",
            "Ratings and Centers Per Column\n",
            "[458, 226, 915]\n",
            "[5.554585152838428, 5.29646017699115, 5.760655737704918]\n",
            "[[  3.93742071   7.02525523   1.90907814]\n",
            " [ 24.23076328  50.17357927   9.94857379]\n",
            " [-15.33230261 -35.24603857  -4.21173222]]\n"
          ],
          "name": "stdout"
        },
        {
          "output_type": "display_data",
          "data": {
            "image/png": "[encoded data removed]",
            "text/plain": [
              "<Figure size 432x288 with 1 Axes>"
            ]
          },
          "metadata": {
            "tags": [],
            "needs_background": "light"
          }
        }
      ]
    },
    {
      "cell_type": "code",
      "metadata": {
        "id": "UVrpaT6pyB-k",
        "colab_type": "code",
        "outputId": "fb52aa2f-ede3-49e2-9e1c-f91d83f10382",
        "colab": {
          "base_uri": "https://localhost:8080/",
          "height": 265
        }
      },
      "source": [
        "def find_optimal_num_clusters():\n",
        "    \"\"\"Plots loss values for different number of clusters in K-Means\n",
        "    Args:\n",
        "        points: input points of candies\n",
        "        overall_rating: numpy array of length N x 1, the rating for each point\n",
        "        max_K: number of clusters\n",
        "    Return:\n",
        "        None (plot loss values against number of clusters)\n",
        "    \"\"\"\n",
        "    \n",
        "    losses = []\n",
        "    for k in range(1, 9):\n",
        "       kmeans = KMeans(k, random_state=0).fit(data)\n",
        "       loss = kmeans.inertia_\n",
        "       losses.append(loss)\n",
        "    plt.plot(range(1, 9), losses)\n",
        "    plt.show()\n",
        "find_optimal_num_clusters()\n",
        "    "
      ],
      "execution_count": 0,
      "outputs": [
        {
          "output_type": "display_data",
          "data": {
            "image/png": "[encoded data removed]",
            "text/plain": [
              "<Figure size 432x288 with 1 Axes>"
            ]
          },
          "metadata": {
            "tags": [],
            "needs_background": "light"
          }
        }
      ]
    },
    {
      "cell_type": "markdown",
      "metadata": {
        "id": "Oa9zxJ7pXaJX",
        "colab_type": "text"
      },
      "source": [
        "**Trees**"
      ]
    },
    {
      "cell_type": "code",
      "metadata": {
        "id": "vOYtqKInXd3f",
        "colab_type": "code",
        "colab": {}
      },
      "source": [
        "import numpy as np\n",
        "from collections import Counter\n",
        "from scipy import stats\n",
        "from math import log2, sqrt\n",
        "import pandas as pd\n",
        "from sklearn.model_selection import train_test_split\n",
        "from sklearn.preprocessing import LabelEncoder\n",
        "from sklearn.tree import DecisionTreeClassifier"
      ],
      "execution_count": 0,
      "outputs": []
    },
    {
      "cell_type": "code",
      "metadata": {
        "id": "-LW_a6Q-XjEO",
        "colab_type": "code",
        "colab": {}
      },
      "source": [
        "def entropy(class_y):\n",
        "    \n",
        "    ones = sum(class_y)/len(class_y)\n",
        "    zeros = 1 - ones\n",
        "    \n",
        "    if ones != 0:\n",
        "      o = -ones * log2(ones)\n",
        "    else:\n",
        "      o = 0\n",
        "    if zeros != 0:\n",
        "      z = zeros * log2(zeros)\n",
        "    else:\n",
        "      z = 0\n",
        "    return o - z\n",
        "\n",
        "def information_gain(previous_y, current_y): \n",
        "    e = []\n",
        "    a = 0\n",
        "    for split in current_y:\n",
        "      a += len(split)\n",
        "      if(len(split) > 0):\n",
        "        e.append(len(split) * entropy(split))\n",
        "    return entropy(previous_y) - sum(e)/(a)\n",
        "\n",
        "def partition_classes(X, y, split_attribute, split_val):\n",
        "       \n",
        "    if(isinstance(X[0][split_attribute], int)):\n",
        "      s = int(split_val)\n",
        "      b = np.asarray(X)\n",
        "      b = np.asarray(b[:,split_attribute], dtype = int)\n",
        "      idx = b <= s\n",
        "      idx1 = b > s\n",
        "      X_left =  np.asarray(X, dtype='O')[idx]\n",
        "      X_right =  np.asarray(X, dtype='O')[idx1]\n",
        "      Y_left =  np.asarray(y)[idx]\n",
        "      Y_right =  np.asarray(y)[idx1]\n",
        "      return X_left, X_right, Y_left,Y_right\n",
        "    else:\n",
        "      b = np.asarray(X)\n",
        "      b = np.asarray(b[:,split_attribute])\n",
        "      idx = b == split_val\n",
        "      idx1 = b != split_val\n",
        "      X_left =  np.asarray(X, dtype='O')[idx]\n",
        "      X_right =  np.asarray(X, dtype='O')[idx1]\n",
        "      Y_left =  np.asarray(y)[idx]\n",
        "      Y_right =  np.asarray(y)[idx1]\n",
        "      return X_left, X_right, Y_left,Y_right\n",
        "\n",
        "\n",
        "def find_best_split(X, y, split_attribute):\n",
        "    \n",
        "    possible_splits = np.unique(np.asarray(X)[:,split_attribute])\n",
        "    best = 0\n",
        "    opt = 0\n",
        "    starting = entropy(y)\n",
        "    for val in possible_splits:\n",
        "      \n",
        "      X_left, X_right, Y_left,Y_right = partition_classes(X,y,split_attribute,val) \n",
        "      current_y = [Y_left, Y_right]\n",
        "      ig = information_gain(y, current_y)\n",
        "      if ig > best:\n",
        "        best = ig\n",
        "        opt = val\n",
        "    return opt, best\n",
        "  \n",
        "\n",
        "def find_best_feature(X, y):\n",
        "    \n",
        "    best_ig = 0\n",
        "    best_val = 0\n",
        "    feature = 0\n",
        "    for i in range(np.asarray(X).shape[1]):\n",
        "      opt, ig = find_best_split(X, y, i)\n",
        "      if ig > best_ig:\n",
        "        best_ig = ig \n",
        "        best_val = opt\n",
        "        feature = i\n",
        "      if(ig == best_ig):\n",
        "        if np.random.randint(0,2) > 0:\n",
        "          best_ig = ig \n",
        "          best_val = opt\n",
        "          feature = i\n",
        "    print(feature)\n",
        "    return feature, best_val\n",
        "\n",
        "\n",
        "\n",
        "class MyDecisionTree(object):\n",
        "    def __init__(self, max_depth=None):\n",
        "        \n",
        "        self.tree = {}\n",
        "        self.root = None\n",
        "        self.max_depth = max_depth\n",
        "\n",
        "\n",
        "    def fit(self, X, y, depth):\n",
        "        \n",
        "        if depth == self.max_depth:\n",
        "          node = {'isLeaf': True, 'class': round(sum(y)/len(y))}\n",
        "          return node\n",
        "        if len(np.unique(y)) == 1:\n",
        "          node = {'isLeaf': True, 'class': y[0]}\n",
        "          return node\n",
        "        \n",
        "        best_feature, best_split_val = find_best_feature(X, y)\n",
        "        X_left, X_right, Y_left,Y_right = partition_classes(X,y, best_feature, best_split_val)\n",
        "        leftTree = self.fit(X_left, Y_left, depth + 1)\n",
        "        rightTree = self.fit(X_right, Y_right, depth + 1)\n",
        "        is_categorical = not isinstance(X[0][best_feature], int)\n",
        "        node = {\n",
        "            'isLeaf': False,\n",
        "            'split_attribute': best_feature,\n",
        "            'is_categorical': is_categorical,\n",
        "            'split_value': best_split_val,\n",
        "            'leftTree': leftTree,\n",
        "            'rightTree': rightTree\n",
        "        }\n",
        "        self.root = node\n",
        "        return node\n",
        "\n",
        "        \n",
        "        \n",
        "       \n",
        "    def predict(self, record):\n",
        "        \n",
        "        current_node = self.root\n",
        "        while(not current_node['isLeaf']):\n",
        "          split_attribute = current_node['split_attribute']\n",
        "          split_value = current_node['split_value']\n",
        "          if not current_node['is_categorical']:\n",
        "            if int(record[split_attribute]) <= int(split_value):\n",
        "              current_node = current_node['leftTree']\n",
        "            else:\n",
        "              current_node = current_node['rightTree']\n",
        "          else:\n",
        "            if record[split_attribute] == split_value:\n",
        "              current_node = current_node['leftTree']\n",
        "            else:\n",
        "              current_node = current_node['rightTree']\n",
        "        return current_node['class']\n",
        "\n",
        "\n",
        "def DecisionTreeEvalution(dt,X,y, verbose=False):\n",
        "\n",
        "    # Make predictions\n",
        "    # For each test sample X, use our fitting dt classifer to predict\n",
        "    y_predicted = []\n",
        "    for record in X: \n",
        "        y_predicted.append(dt.predict(record))\n",
        "\n",
        "    # Comparing predicted and true labels\n",
        "    results = [prediction == truth for prediction, truth in zip(y_predicted, y)]\n",
        "\n",
        "    # Accuracy\n",
        "    accuracy = float(results.count(True)) / float(len(results))\n",
        "    if verbose:\n",
        "        print(\"accuracy: %.4f\" % accuracy)\n",
        "    return accuracy\n",
        "\n",
        "\n"
      ],
      "execution_count": 0,
      "outputs": []
    },
    {
      "cell_type": "code",
      "metadata": {
        "id": "OyQ9nEvUeDYd",
        "colab_type": "code",
        "colab": {}
      },
      "source": [
        ""
      ],
      "execution_count": 0,
      "outputs": []
    },
    {
      "cell_type": "code",
      "metadata": {
        "id": "KEdmCMwfYEpJ",
        "colab_type": "code",
        "outputId": "988fc470-57e2-4e40-d646-351d6e36921f",
        "colab": {
          "base_uri": "https://localhost:8080/",
          "height": 34
        }
      },
      "source": [
        "data_test = pd.read_csv(\"RedWineTest.csv\")\n",
        "data_train = pd.read_csv(\"RedWineTrain.csv\")\n",
        "\n",
        "\n",
        "X_train = np.array(data_train)[:,:-2]\n",
        "print(X_train.shape)\n",
        "y_train = np.array(data_train)[:,-1]\n",
        "X_test = np.array(data_test)[:,:-2]\n",
        "y_test = np.array(data_test)[:,-1]"
      ],
      "execution_count": 0,
      "outputs": [
        {
          "output_type": "stream",
          "text": [
            "(1279, 11)\n"
          ],
          "name": "stdout"
        }
      ]
    },
    {
      "cell_type": "code",
      "metadata": {
        "id": "1iTKPNtyYFTI",
        "colab_type": "code",
        "outputId": "91919d97-8bb5-4c8b-82f1-0099e657c59f",
        "colab": {
          "base_uri": "https://localhost:8080/",
          "height": 1000
        }
      },
      "source": [
        "# Initializing a decision tree.\n",
        "max_depth = 7\n",
        "dt = MyDecisionTree(max_depth)\n",
        "\n",
        "# Building a tree\n",
        "print(\"fitting the decision tree\")\n",
        "dt.fit(X_train, y_train, 0)"
      ],
      "execution_count": 0,
      "outputs": [
        {
          "output_type": "stream",
          "text": [
            "fitting the decision tree\n",
            "10\n",
            "10\n",
            "7\n",
            "8\n",
            "8\n",
            "10\n",
            "1\n",
            "2\n",
            "10\n",
            "8\n",
            "2\n",
            "10\n",
            "9\n",
            "9\n",
            "10\n",
            "1\n"
          ],
          "name": "stdout"
        },
        {
          "output_type": "execute_result",
          "data": {
            "text/plain": [
              "{'isLeaf': False,\n",
              " 'is_categorical': True,\n",
              " 'leftTree': {'class': 0.0, 'isLeaf': True},\n",
              " 'rightTree': {'isLeaf': False,\n",
              "  'is_categorical': True,\n",
              "  'leftTree': {'isLeaf': False,\n",
              "   'is_categorical': True,\n",
              "   'leftTree': {'isLeaf': False,\n",
              "    'is_categorical': True,\n",
              "    'leftTree': {'class': 1.0, 'isLeaf': True},\n",
              "    'rightTree': {'isLeaf': False,\n",
              "     'is_categorical': True,\n",
              "     'leftTree': {'class': 1.0, 'isLeaf': True},\n",
              "     'rightTree': {'class': 0.0, 'isLeaf': True},\n",
              "     'split_attribute': 8,\n",
              "     'split_value': 3.38},\n",
              "    'split_attribute': 8,\n",
              "    'split_value': 3.36},\n",
              "   'rightTree': {'class': 0.0, 'isLeaf': True},\n",
              "   'split_attribute': 7,\n",
              "   'split_value': 0.9968},\n",
              "  'rightTree': {'isLeaf': False,\n",
              "   'is_categorical': True,\n",
              "   'leftTree': {'class': 0.0, 'isLeaf': True},\n",
              "   'rightTree': {'isLeaf': False,\n",
              "    'is_categorical': True,\n",
              "    'leftTree': {'isLeaf': False,\n",
              "     'is_categorical': True,\n",
              "     'leftTree': {'class': 0.0, 'isLeaf': True},\n",
              "     'rightTree': {'isLeaf': False,\n",
              "      'is_categorical': True,\n",
              "      'leftTree': {'class': 0.0, 'isLeaf': True},\n",
              "      'rightTree': {'isLeaf': False,\n",
              "       'is_categorical': True,\n",
              "       'leftTree': {'class': 0.0, 'isLeaf': True},\n",
              "       'rightTree': {'class': 1.0, 'isLeaf': True},\n",
              "       'split_attribute': 8,\n",
              "       'split_value': 3.16},\n",
              "      'split_attribute': 10,\n",
              "      'split_value': 9.2},\n",
              "     'split_attribute': 2,\n",
              "     'split_value': 0.46},\n",
              "    'rightTree': {'isLeaf': False,\n",
              "     'is_categorical': True,\n",
              "     'leftTree': {'isLeaf': False,\n",
              "      'is_categorical': True,\n",
              "      'leftTree': {'class': 0.0, 'isLeaf': True},\n",
              "      'rightTree': {'isLeaf': False,\n",
              "       'is_categorical': True,\n",
              "       'leftTree': {'class': 0.0, 'isLeaf': True},\n",
              "       'rightTree': {'class': 1.0, 'isLeaf': True},\n",
              "       'split_attribute': 9,\n",
              "       'split_value': 0.8},\n",
              "      'split_attribute': 10,\n",
              "      'split_value': 9.1},\n",
              "     'rightTree': {'isLeaf': False,\n",
              "      'is_categorical': True,\n",
              "      'leftTree': {'isLeaf': False,\n",
              "       'is_categorical': True,\n",
              "       'leftTree': {'class': 0.0, 'isLeaf': True},\n",
              "       'rightTree': {'class': 1.0, 'isLeaf': True},\n",
              "       'split_attribute': 10,\n",
              "       'split_value': 11.1},\n",
              "      'rightTree': {'isLeaf': False,\n",
              "       'is_categorical': True,\n",
              "       'leftTree': {'class': 1.0, 'isLeaf': True},\n",
              "       'rightTree': {'class': 0.0, 'isLeaf': True},\n",
              "       'split_attribute': 1,\n",
              "       'split_value': 0.33},\n",
              "      'split_attribute': 9,\n",
              "      'split_value': 0.85},\n",
              "     'split_attribute': 2,\n",
              "     'split_value': 0.53},\n",
              "    'split_attribute': 1,\n",
              "    'split_value': 0.28},\n",
              "   'split_attribute': 10,\n",
              "   'split_value': 9.3},\n",
              "  'split_attribute': 10,\n",
              "  'split_value': 9.5},\n",
              " 'split_attribute': 10,\n",
              " 'split_value': 9.4}"
            ]
          },
          "metadata": {
            "tags": []
          },
          "execution_count": 30
        }
      ]
    },
    {
      "cell_type": "code",
      "metadata": {
        "id": "J0QDoegdYHRb",
        "colab_type": "code",
        "outputId": "b82d5f0f-d38f-40b1-dc69-1c0c4968e34f",
        "colab": {
          "base_uri": "https://localhost:8080/",
          "height": 51
        }
      },
      "source": [
        "DecisionTreeEvalution(dt,X_test,y_test, True)"
      ],
      "execution_count": 0,
      "outputs": [
        {
          "output_type": "stream",
          "text": [
            "accuracy: 0.9062\n"
          ],
          "name": "stdout"
        },
        {
          "output_type": "execute_result",
          "data": {
            "text/plain": [
              "0.90625"
            ]
          },
          "metadata": {
            "tags": []
          },
          "execution_count": 31
        }
      ]
    },
    {
      "cell_type": "code",
      "metadata": {
        "id": "Hixhk808h27R",
        "colab_type": "code",
        "outputId": "11584610-7e42-4ae5-c143-cf2b37896842",
        "colab": {
          "base_uri": "https://localhost:8080/",
          "height": 34
        }
      },
      "source": [
        "data_test = pd.read_csv(\"WhiteWineTest.csv\")\n",
        "data_train = pd.read_csv(\"WhiteWineTrain.csv\")\n",
        "\n",
        "\n",
        "X_train = np.array(data_train)[:,:-2]\n",
        "print(X_train.shape)\n",
        "y_train = np.array(data_train)[:,-1]\n",
        "X_test = np.array(data_test)[:,:-2]\n",
        "y_test = np.array(data_test)[:,-1]"
      ],
      "execution_count": 0,
      "outputs": [
        {
          "output_type": "stream",
          "text": [
            "(3917, 10)\n"
          ],
          "name": "stdout"
        }
      ]
    },
    {
      "cell_type": "code",
      "metadata": {
        "id": "uVg7ZwAbh55M",
        "colab_type": "code",
        "outputId": "d0ff922d-e86a-4faa-8833-d7a6263f7c46",
        "colab": {
          "base_uri": "https://localhost:8080/",
          "height": 1000
        }
      },
      "source": [
        "# Initializing a decision tree.\n",
        "max_depth = 7\n",
        "dt = MyDecisionTree(max_depth)\n",
        "\n",
        "# Building a tree\n",
        "print(\"fitting the decision tree\")\n",
        "dt.fit(X_train, y_train, 0)"
      ],
      "execution_count": 0,
      "outputs": [
        {
          "output_type": "stream",
          "text": [
            "fitting the decision tree\n",
            "9\n",
            "4\n",
            "2\n",
            "6\n",
            "8\n",
            "6\n",
            "1\n",
            "9\n",
            "0\n",
            "7\n",
            "7\n",
            "7\n",
            "8\n",
            "9\n",
            "1\n",
            "7\n",
            "6\n",
            "8\n",
            "7\n",
            "1\n",
            "9\n",
            "0\n",
            "9\n",
            "8\n",
            "4\n",
            "8\n",
            "9\n",
            "7\n",
            "9\n"
          ],
          "name": "stdout"
        },
        {
          "output_type": "execute_result",
          "data": {
            "text/plain": [
              "{'isLeaf': False,\n",
              " 'is_categorical': True,\n",
              " 'leftTree': {'isLeaf': False,\n",
              "  'is_categorical': True,\n",
              "  'leftTree': {'class': 1.0, 'isLeaf': True},\n",
              "  'rightTree': {'isLeaf': False,\n",
              "   'is_categorical': True,\n",
              "   'leftTree': {'class': 1.0, 'isLeaf': True},\n",
              "   'rightTree': {'isLeaf': False,\n",
              "    'is_categorical': True,\n",
              "    'leftTree': {'class': 1.0, 'isLeaf': True},\n",
              "    'rightTree': {'isLeaf': False,\n",
              "     'is_categorical': True,\n",
              "     'leftTree': {'class': 1.0, 'isLeaf': True},\n",
              "     'rightTree': {'isLeaf': False,\n",
              "      'is_categorical': True,\n",
              "      'leftTree': {'class': 1.0, 'isLeaf': True},\n",
              "      'rightTree': {'isLeaf': False,\n",
              "       'is_categorical': True,\n",
              "       'leftTree': {'class': 1.0, 'isLeaf': True},\n",
              "       'rightTree': {'class': 0.0, 'isLeaf': True},\n",
              "       'split_attribute': 1,\n",
              "       'split_value': 0.37},\n",
              "      'split_attribute': 6,\n",
              "      'split_value': 0.99566},\n",
              "     'split_attribute': 8,\n",
              "     'split_value': 0.58},\n",
              "    'split_attribute': 6,\n",
              "    'split_value': 0.995},\n",
              "   'split_attribute': 2,\n",
              "   'split_value': 4.1},\n",
              "  'split_attribute': 4,\n",
              "  'split_value': 36.0},\n",
              " 'rightTree': {'isLeaf': False,\n",
              "  'is_categorical': True,\n",
              "  'leftTree': {'isLeaf': False,\n",
              "   'is_categorical': True,\n",
              "   'leftTree': {'class': 1.0, 'isLeaf': True},\n",
              "   'rightTree': {'isLeaf': False,\n",
              "    'is_categorical': True,\n",
              "    'leftTree': {'class': 1.0, 'isLeaf': True},\n",
              "    'rightTree': {'isLeaf': False,\n",
              "     'is_categorical': True,\n",
              "     'leftTree': {'class': 1.0, 'isLeaf': True},\n",
              "     'rightTree': {'isLeaf': False,\n",
              "      'is_categorical': True,\n",
              "      'leftTree': {'class': 1.0, 'isLeaf': True},\n",
              "      'rightTree': {'isLeaf': False,\n",
              "       'is_categorical': True,\n",
              "       'leftTree': {'class': 1.0, 'isLeaf': True},\n",
              "       'rightTree': {'class': 0.0, 'isLeaf': True},\n",
              "       'split_attribute': 8,\n",
              "       'split_value': 0.58},\n",
              "      'split_attribute': 7,\n",
              "      'split_value': 3.28},\n",
              "     'split_attribute': 7,\n",
              "     'split_value': 3.09},\n",
              "    'split_attribute': 7,\n",
              "    'split_value': 3.06},\n",
              "   'split_attribute': 0,\n",
              "   'split_value': 0.44},\n",
              "  'rightTree': {'isLeaf': False,\n",
              "   'is_categorical': True,\n",
              "   'leftTree': {'isLeaf': False,\n",
              "    'is_categorical': True,\n",
              "    'leftTree': {'class': 1.0, 'isLeaf': True},\n",
              "    'rightTree': {'isLeaf': False,\n",
              "     'is_categorical': True,\n",
              "     'leftTree': {'isLeaf': False,\n",
              "      'is_categorical': True,\n",
              "      'leftTree': {'class': 0.0, 'isLeaf': True},\n",
              "      'rightTree': {'class': 1.0, 'isLeaf': True},\n",
              "      'split_attribute': 6,\n",
              "      'split_value': 0.9976},\n",
              "     'rightTree': {'isLeaf': False,\n",
              "      'is_categorical': True,\n",
              "      'leftTree': {'isLeaf': False,\n",
              "       'is_categorical': True,\n",
              "       'leftTree': {'class': 0.0, 'isLeaf': True},\n",
              "       'rightTree': {'class': 1.0, 'isLeaf': True},\n",
              "       'split_attribute': 7,\n",
              "       'split_value': 3.08},\n",
              "      'rightTree': {'isLeaf': False,\n",
              "       'is_categorical': True,\n",
              "       'leftTree': {'class': 1.0, 'isLeaf': True},\n",
              "       'rightTree': {'class': 0.0, 'isLeaf': True},\n",
              "       'split_attribute': 1,\n",
              "       'split_value': 0.39},\n",
              "      'split_attribute': 8,\n",
              "      'split_value': 0.42},\n",
              "     'split_attribute': 7,\n",
              "     'split_value': 3.1},\n",
              "    'split_attribute': 1,\n",
              "    'split_value': 0.28},\n",
              "   'rightTree': {'isLeaf': False,\n",
              "    'is_categorical': True,\n",
              "    'leftTree': {'isLeaf': False,\n",
              "     'is_categorical': True,\n",
              "     'leftTree': {'class': 0.0, 'isLeaf': True},\n",
              "     'rightTree': {'class': 1.0, 'isLeaf': True},\n",
              "     'split_attribute': 0,\n",
              "     'split_value': 0.31},\n",
              "    'rightTree': {'isLeaf': False,\n",
              "     'is_categorical': True,\n",
              "     'leftTree': {'isLeaf': False,\n",
              "      'is_categorical': True,\n",
              "      'leftTree': {'isLeaf': False,\n",
              "       'is_categorical': True,\n",
              "       'leftTree': {'class': 0.0, 'isLeaf': True},\n",
              "       'rightTree': {'class': 1.0, 'isLeaf': True},\n",
              "       'split_attribute': 4,\n",
              "       'split_value': 4.0},\n",
              "      'rightTree': {'isLeaf': False,\n",
              "       'is_categorical': True,\n",
              "       'leftTree': {'class': 0.0, 'isLeaf': True},\n",
              "       'rightTree': {'class': 1.0, 'isLeaf': True},\n",
              "       'split_attribute': 8,\n",
              "       'split_value': 0.34},\n",
              "      'split_attribute': 8,\n",
              "      'split_value': 0.44},\n",
              "     'rightTree': {'isLeaf': False,\n",
              "      'is_categorical': True,\n",
              "      'leftTree': {'isLeaf': False,\n",
              "       'is_categorical': True,\n",
              "       'leftTree': {'class': 0.0, 'isLeaf': True},\n",
              "       'rightTree': {'class': 1.0, 'isLeaf': True},\n",
              "       'split_attribute': 7,\n",
              "       'split_value': 3.11},\n",
              "      'rightTree': {'isLeaf': False,\n",
              "       'is_categorical': True,\n",
              "       'leftTree': {'class': 1.0, 'isLeaf': True},\n",
              "       'rightTree': {'class': 1.0, 'isLeaf': True},\n",
              "       'split_attribute': 9,\n",
              "       'split_value': 11.3},\n",
              "      'split_attribute': 9,\n",
              "      'split_value': 12.3},\n",
              "     'split_attribute': 9,\n",
              "     'split_value': 12.2},\n",
              "    'split_attribute': 9,\n",
              "    'split_value': 12.5},\n",
              "   'split_attribute': 9,\n",
              "   'split_value': 9.2},\n",
              "  'split_attribute': 9,\n",
              "  'split_value': 8.7},\n",
              " 'split_attribute': 9,\n",
              " 'split_value': 9.4}"
            ]
          },
          "metadata": {
            "tags": []
          },
          "execution_count": 33
        }
      ]
    },
    {
      "cell_type": "code",
      "metadata": {
        "id": "eA1m11mDh7zv",
        "colab_type": "code",
        "outputId": "5d4b981b-3bff-41a4-a0df-c2a920e80633",
        "colab": {
          "base_uri": "https://localhost:8080/",
          "height": 52
        }
      },
      "source": [
        "DecisionTreeEvalution(dt,X_test,y_test, True)"
      ],
      "execution_count": 0,
      "outputs": [
        {
          "output_type": "stream",
          "text": [
            "accuracy: 0.7102\n"
          ],
          "name": "stdout"
        },
        {
          "output_type": "execute_result",
          "data": {
            "text/plain": [
              "0.710204081632653"
            ]
          },
          "metadata": {
            "tags": []
          },
          "execution_count": 31
        }
      ]
    },
    {
      "cell_type": "code",
      "metadata": {
        "id": "jhu6wBD8jzWP",
        "colab_type": "code",
        "outputId": "89873570-da87-4511-97e0-21f80d35d50b",
        "colab": {
          "base_uri": "https://localhost:8080/",
          "height": 34
        }
      },
      "source": [
        "data = np.array(pd.read_csv(\"Wine.csv\"))\n",
        "\n",
        "idx = np.arange(data.shape[0]).tolist()\n",
        "idxs = []\n",
        "for i in range(int(len(idx) * .8)):\n",
        "  choice = np.random.choice(idx)\n",
        "  idx.remove(choice)\n",
        "  idxs.append(choice) \n",
        "\n",
        "\n",
        "\n",
        "\n",
        "X_train = np.array(data)[idxs,:-2]\n",
        "print(X_train.shape)\n",
        "y_train = np.array(data)[idxs,-1]\n",
        "X_test = np.array(data)[idx,:-2]\n",
        "y_test = np.array(data)[idx,-1]"
      ],
      "execution_count": 0,
      "outputs": [
        {
          "output_type": "stream",
          "text": [
            "(5197, 11)\n"
          ],
          "name": "stdout"
        }
      ]
    },
    {
      "cell_type": "code",
      "metadata": {
        "id": "1377gBztjz6U",
        "colab_type": "code",
        "outputId": "2e8b1ed4-2ca5-422c-926b-52d61afeef5e",
        "colab": {
          "base_uri": "https://localhost:8080/",
          "height": 1000
        }
      },
      "source": [
        "# Initializing a decision tree.\n",
        "max_depth = 7\n",
        "dt = MyDecisionTree(max_depth)\n",
        "\n",
        "# Building a tree\n",
        "print(\"fitting the decision tree\")\n",
        "dt.fit(X_train, y_train, 0)"
      ],
      "execution_count": 0,
      "outputs": [
        {
          "output_type": "stream",
          "text": [
            "fitting the decision tree\n",
            "10\n",
            "3\n",
            "3\n",
            "7\n",
            "10\n",
            "7\n",
            "10\n",
            "2\n",
            "9\n",
            "8\n",
            "8\n",
            "7\n",
            "6\n",
            "10\n",
            "0\n",
            "8\n",
            "9\n",
            "4\n",
            "10\n",
            "2\n",
            "4\n",
            "10\n",
            "3\n",
            "10\n"
          ],
          "name": "stdout"
        },
        {
          "output_type": "execute_result",
          "data": {
            "text/plain": [
              "{'isLeaf': False,\n",
              " 'is_categorical': True,\n",
              " 'leftTree': {'isLeaf': False,\n",
              "  'is_categorical': True,\n",
              "  'leftTree': {'class': 1.0, 'isLeaf': True},\n",
              "  'rightTree': {'isLeaf': False,\n",
              "   'is_categorical': True,\n",
              "   'leftTree': {'isLeaf': False,\n",
              "    'is_categorical': True,\n",
              "    'leftTree': {'class': 1.0, 'isLeaf': True},\n",
              "    'rightTree': {'class': 0.0, 'isLeaf': True},\n",
              "    'split_attribute': 7,\n",
              "    'split_value': 0.9984},\n",
              "   'rightTree': {'class': 0.0, 'isLeaf': True},\n",
              "   'split_attribute': 3,\n",
              "   'split_value': 11.1},\n",
              "  'split_attribute': 3,\n",
              "  'split_value': 4.6},\n",
              " 'rightTree': {'isLeaf': False,\n",
              "  'is_categorical': True,\n",
              "  'leftTree': {'isLeaf': False,\n",
              "   'is_categorical': True,\n",
              "   'leftTree': {'class': 1.0, 'isLeaf': True},\n",
              "   'rightTree': {'class': 0.0, 'isLeaf': True},\n",
              "   'split_attribute': 7,\n",
              "   'split_value': 1.00005},\n",
              "  'rightTree': {'isLeaf': False,\n",
              "   'is_categorical': True,\n",
              "   'leftTree': {'isLeaf': False,\n",
              "    'is_categorical': True,\n",
              "    'leftTree': {'isLeaf': False,\n",
              "     'is_categorical': True,\n",
              "     'leftTree': {'class': 0.0, 'isLeaf': True},\n",
              "     'rightTree': {'isLeaf': False,\n",
              "      'is_categorical': True,\n",
              "      'leftTree': {'class': 0.0, 'isLeaf': True},\n",
              "      'rightTree': {'class': 1.0, 'isLeaf': True},\n",
              "      'split_attribute': 8,\n",
              "      'split_value': 3.25},\n",
              "     'split_attribute': 9,\n",
              "     'split_value': 0.47},\n",
              "    'rightTree': {'isLeaf': False,\n",
              "     'is_categorical': True,\n",
              "     'leftTree': {'class': 1.0, 'isLeaf': True},\n",
              "     'rightTree': {'isLeaf': False,\n",
              "      'is_categorical': True,\n",
              "      'leftTree': {'class': 1.0, 'isLeaf': True},\n",
              "      'rightTree': {'isLeaf': False,\n",
              "       'is_categorical': True,\n",
              "       'leftTree': {'class': 1.0, 'isLeaf': True},\n",
              "       'rightTree': {'class': 0.0, 'isLeaf': True},\n",
              "       'split_attribute': 6,\n",
              "       'split_value': 173.0},\n",
              "      'split_attribute': 7,\n",
              "      'split_value': 0.9970399999999999},\n",
              "     'split_attribute': 8,\n",
              "     'split_value': 3.37},\n",
              "    'split_attribute': 2,\n",
              "    'split_value': 0.36},\n",
              "   'rightTree': {'isLeaf': False,\n",
              "    'is_categorical': True,\n",
              "    'leftTree': {'isLeaf': False,\n",
              "     'is_categorical': True,\n",
              "     'leftTree': {'isLeaf': False,\n",
              "      'is_categorical': True,\n",
              "      'leftTree': {'class': 1.0, 'isLeaf': True},\n",
              "      'rightTree': {'isLeaf': False,\n",
              "       'is_categorical': True,\n",
              "       'leftTree': {'class': 1.0, 'isLeaf': True},\n",
              "       'rightTree': {'class': 0.0, 'isLeaf': True},\n",
              "       'split_attribute': 9,\n",
              "       'split_value': 0.48},\n",
              "      'split_attribute': 8,\n",
              "      'split_value': 3.07},\n",
              "     'rightTree': {'isLeaf': False,\n",
              "      'is_categorical': True,\n",
              "      'leftTree': {'class': 1.0, 'isLeaf': True},\n",
              "      'rightTree': {'class': 0.0, 'isLeaf': True},\n",
              "      'split_attribute': 4,\n",
              "      'split_value': 0.044000000000000004},\n",
              "     'split_attribute': 0,\n",
              "     'split_value': 7.0},\n",
              "    'rightTree': {'isLeaf': False,\n",
              "     'is_categorical': True,\n",
              "     'leftTree': {'isLeaf': False,\n",
              "      'is_categorical': True,\n",
              "      'leftTree': {'class': 1.0, 'isLeaf': True},\n",
              "      'rightTree': {'isLeaf': False,\n",
              "       'is_categorical': True,\n",
              "       'leftTree': {'class': 1.0, 'isLeaf': True},\n",
              "       'rightTree': {'class': 1.0, 'isLeaf': True},\n",
              "       'split_attribute': 4,\n",
              "       'split_value': 0.028999999999999998},\n",
              "      'split_attribute': 2,\n",
              "      'split_value': 0.29},\n",
              "     'rightTree': {'isLeaf': False,\n",
              "      'is_categorical': True,\n",
              "      'leftTree': {'isLeaf': False,\n",
              "       'is_categorical': True,\n",
              "       'leftTree': {'class': 1.0, 'isLeaf': True},\n",
              "       'rightTree': {'class': 0.0, 'isLeaf': True},\n",
              "       'split_attribute': 3,\n",
              "       'split_value': 14.9},\n",
              "      'rightTree': {'isLeaf': False,\n",
              "       'is_categorical': True,\n",
              "       'leftTree': {'class': 1.0, 'isLeaf': True},\n",
              "       'rightTree': {'class': 0.0, 'isLeaf': True},\n",
              "       'split_attribute': 10,\n",
              "       'split_value': 12.6},\n",
              "      'split_attribute': 10,\n",
              "      'split_value': 9.3},\n",
              "     'split_attribute': 10,\n",
              "     'split_value': 12.8},\n",
              "    'split_attribute': 10,\n",
              "    'split_value': 9.6},\n",
              "   'split_attribute': 10,\n",
              "   'split_value': 9.5},\n",
              "  'split_attribute': 10,\n",
              "  'split_value': 9.2},\n",
              " 'split_attribute': 10,\n",
              " 'split_value': 9.4}"
            ]
          },
          "metadata": {
            "tags": []
          },
          "execution_count": 35
        }
      ]
    },
    {
      "cell_type": "code",
      "metadata": {
        "id": "G-lAqIYgj1Kc",
        "colab_type": "code",
        "outputId": "0d51ae27-9b6d-49f4-e7d3-49ac74a98d34",
        "colab": {
          "base_uri": "https://localhost:8080/",
          "height": 51
        }
      },
      "source": [
        "DecisionTreeEvalution(dt,X_test,y_test, True)"
      ],
      "execution_count": 0,
      "outputs": [
        {
          "output_type": "stream",
          "text": [
            "accuracy: 0.8031\n"
          ],
          "name": "stdout"
        },
        {
          "output_type": "execute_result",
          "data": {
            "text/plain": [
              "0.803076923076923"
            ]
          },
          "metadata": {
            "tags": []
          },
          "execution_count": 36
        }
      ]
    },
    {
      "cell_type": "code",
      "metadata": {
        "id": "mg4EKxF5xARw",
        "colab_type": "code",
        "outputId": "2e0c5781-9150-4d26-be31-e5677cad0c6d",
        "colab": {
          "base_uri": "https://localhost:8080/",
          "height": 124
        }
      },
      "source": [
        "from google.colab import drive\n",
        "drive.mount('/content/drive')"
      ],
      "execution_count": 0,
      "outputs": [
        {
          "output_type": "stream",
          "text": [
            "Go to this URL in a browser: https://accounts.google.com/o/oauth2/auth?client_id=947318989803-6bn6qk8qdgf4n4g3pfee6491hc0brc4i.apps.googleusercontent.com&redirect_uri=urn%3aietf%3awg%3aoauth%3a2.0%3aoob&response_type=code&scope=email%20https%3a%2f%2fwww.googleapis.com%2fauth%2fdocs.test%20https%3a%2f%2fwww.googleapis.com%2fauth%2fdrive%20https%3a%2f%2fwww.googleapis.com%2fauth%2fdrive.photos.readonly%20https%3a%2f%2fwww.googleapis.com%2fauth%2fpeopleapi.readonly\n",
            "\n",
            "Enter your authorization code:\n",
            "··········\n",
            "Mounted at /content/drive\n"
          ],
          "name": "stdout"
        }
      ]
    }
  ]
}